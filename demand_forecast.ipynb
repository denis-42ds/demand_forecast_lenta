{
 "cells": [
  {
   "cell_type": "markdown",
   "id": "75495548-9daa-4da6-8b80-b18723edfaeb",
   "metadata": {},
   "source": [
    "# Модель прогнозирования спроса\n",
    "Краткое описание:\n",
    "<br>Необходимо создать алгоритм прогноза спроса на 14 дней для товаров собственного\n",
    "производства. Гранулярность ТК-SKU-День.\n",
    "\n",
    "Задача:\n",
    "<br>Построить модель прогноза спроса на основе мастер данных и данных продаж с учетом разных\n",
    "признаков.\n",
    "\n",
    "Метрика качества:\n",
    "<br>`WAPE`:\n",
    "<br>`def wape(y_true: np.array, y_pred: np.array):`\n",
    "    <br>`return np.sum(np.abs(y_true-y_pred))/np.sum(np.abs(y_true))`"
   ]
  },
  {
   "cell_type": "markdown",
   "id": "745068c6-bac0-415f-9c40-233ea17f63c0",
   "metadata": {},
   "source": [
    "### Описание данных\n",
    "1) sales_df_train.csv –данные по продажам за скользящий год для обучения.\n",
    "    * Столбцы:\n",
    "        - st_id – захэшированное id магазина;\n",
    "        - pr_sku_id – захэшированное id товара;\n",
    "        - date – дата;\n",
    "        - pr_sales_type_id – флаг наличия промо;\n",
    "        - pr_sales_in_units – число проданных товаров всего (промо и без); **описание изменено после уточнения у бизнеса**\n",
    "        - pr_promo_sales_in_units – число проданных товаров с признаком промо;\n",
    "        - pr_sales_in_rub – продажи в РУБ всего (промо и без); **описание изменено после уточнения у бизнеса**\n",
    "        - pr_promo_sales_in_rub – продажи с признаком промо в РУБ;\n",
    "2) pr_df.csv – данные по товарной иерархии.\n",
    "<br>От большего к меньшему pr_group_id - pr_cat_id - pr_subcat_id - pr_sku_id.\n",
    "    - Столбцы:\n",
    "        - pr_group_id – захэшированная группа товара;\n",
    "        - pr_cat_id – захэшированная категория товара;\n",
    "        - pr_subcat_id – захэшированная подкатегория товара;\n",
    "        - pr_sku_id – захэшированное id товара;\n",
    "        - pr_uom_id (маркер, обозначающий продаётся товар на вес или в ШТ).\n",
    "3) pr_st.csv – данные по магазинам.\n",
    "    - Столбцы:\n",
    "        - st_id – захэшированное id магазина;\n",
    "        - st_city_id – захэшированное id города;\n",
    "        - st_division_code id – захэшированное id дивизиона;\n",
    "        - st_type_format_id – id формата магазина;\n",
    "        - st_type_loc_id – id тип локации/окружения магазина;\n",
    "        - st_type_size_id – id типа размера магазина;\n",
    "        - st_is_active – флаг активного магазина на данный момент."
   ]
  },
  {
   "cell_type": "markdown",
   "id": "5bc1a7fe-3b33-4e42-96cd-9817860179af",
   "metadata": {},
   "source": [
    "## Загрузка библиотек"
   ]
  },
  {
   "cell_type": "code",
   "execution_count": 1,
   "id": "3ad5d59f-b7eb-4db9-80a4-0c30225f281a",
   "metadata": {},
   "outputs": [],
   "source": [
    "import pandas as pd\n",
    "import numpy as np"
   ]
  },
  {
   "cell_type": "markdown",
   "id": "f3a15340-c36c-4912-8314-2c3a62b073d3",
   "metadata": {},
   "source": [
    "Пример файла с результатом прогноза"
   ]
  },
  {
   "cell_type": "code",
   "execution_count": null,
   "id": "57373e08-caea-4588-b3d6-dd206971cdae",
   "metadata": {
    "scrolled": true
   },
   "outputs": [],
   "source": [
    "# sales_submission_ex = pd.read_csv('sp_sales_task/sales_submission.csv')\n",
    "# sales_submission_ex.head()"
   ]
  },
  {
   "cell_type": "markdown",
   "id": "53575156-6de2-4211-b418-ad24501d768d",
   "metadata": {},
   "source": [
    "## Знакомство с данными"
   ]
  },
  {
   "cell_type": "code",
   "execution_count": 2,
   "id": "945fe72b-316e-4419-8dd5-4368b4d620df",
   "metadata": {},
   "outputs": [],
   "source": [
    "pr_df = pd.read_csv('sp_sales_task/pr_df.csv')\n",
    "pr_st = pd.read_csv('sp_sales_task/st_df.csv')"
   ]
  },
  {
   "cell_type": "code",
   "execution_count": 3,
   "id": "15e44bce-c4d5-44e5-859c-7ca6a806a564",
   "metadata": {},
   "outputs": [
    {
     "data": {
      "text/html": [
       "<div>\n",
       "<style scoped>\n",
       "    .dataframe tbody tr th:only-of-type {\n",
       "        vertical-align: middle;\n",
       "    }\n",
       "\n",
       "    .dataframe tbody tr th {\n",
       "        vertical-align: top;\n",
       "    }\n",
       "\n",
       "    .dataframe thead th {\n",
       "        text-align: right;\n",
       "    }\n",
       "</style>\n",
       "<table border=\"1\" class=\"dataframe\">\n",
       "  <thead>\n",
       "    <tr style=\"text-align: right;\">\n",
       "      <th></th>\n",
       "      <th>pr_sku_id</th>\n",
       "      <th>pr_group_id</th>\n",
       "      <th>pr_cat_id</th>\n",
       "      <th>pr_subcat_id</th>\n",
       "      <th>pr_uom_id</th>\n",
       "    </tr>\n",
       "  </thead>\n",
       "  <tbody>\n",
       "    <tr>\n",
       "      <th>412</th>\n",
       "      <td>5e664d6988c6d6827cbaaafb0bc7f103</td>\n",
       "      <td>aab3238922bcc25a6f606eb525ffdc56</td>\n",
       "      <td>3de2334a314a7a72721f1f74a6cb4cee</td>\n",
       "      <td>7d45a7d177df53e95d433b20bddcd073</td>\n",
       "      <td>17</td>\n",
       "    </tr>\n",
       "  </tbody>\n",
       "</table>\n",
       "</div>"
      ],
      "text/plain": [
       "                            pr_sku_id                       pr_group_id  \\\n",
       "412  5e664d6988c6d6827cbaaafb0bc7f103  aab3238922bcc25a6f606eb525ffdc56   \n",
       "\n",
       "                            pr_cat_id                      pr_subcat_id  \\\n",
       "412  3de2334a314a7a72721f1f74a6cb4cee  7d45a7d177df53e95d433b20bddcd073   \n",
       "\n",
       "     pr_uom_id  \n",
       "412         17  "
      ]
     },
     "metadata": {},
     "output_type": "display_data"
    },
    {
     "name": "stdout",
     "output_type": "stream",
     "text": [
      "<class 'pandas.core.frame.DataFrame'>\n",
      "RangeIndex: 2050 entries, 0 to 2049\n",
      "Data columns (total 5 columns):\n",
      " #   Column        Non-Null Count  Dtype \n",
      "---  ------        --------------  ----- \n",
      " 0   pr_sku_id     2050 non-null   object\n",
      " 1   pr_group_id   2050 non-null   object\n",
      " 2   pr_cat_id     2050 non-null   object\n",
      " 3   pr_subcat_id  2050 non-null   object\n",
      " 4   pr_uom_id     2050 non-null   int64 \n",
      "dtypes: int64(1), object(4)\n",
      "memory usage: 80.2+ KB\n"
     ]
    },
    {
     "data": {
      "text/html": [
       "<div>\n",
       "<style scoped>\n",
       "    .dataframe tbody tr th:only-of-type {\n",
       "        vertical-align: middle;\n",
       "    }\n",
       "\n",
       "    .dataframe tbody tr th {\n",
       "        vertical-align: top;\n",
       "    }\n",
       "\n",
       "    .dataframe thead th {\n",
       "        text-align: right;\n",
       "    }\n",
       "</style>\n",
       "<table border=\"1\" class=\"dataframe\">\n",
       "  <thead>\n",
       "    <tr style=\"text-align: right;\">\n",
       "      <th></th>\n",
       "      <th>st_id</th>\n",
       "      <th>st_city_id</th>\n",
       "      <th>st_division_code</th>\n",
       "      <th>st_type_format_id</th>\n",
       "      <th>st_type_loc_id</th>\n",
       "      <th>st_type_size_id</th>\n",
       "      <th>st_is_active</th>\n",
       "    </tr>\n",
       "  </thead>\n",
       "  <tbody>\n",
       "    <tr>\n",
       "      <th>10</th>\n",
       "      <td>62f91ce9b820a491ee78c108636db089</td>\n",
       "      <td>1587965fb4d4b5afe8428a4a024feb0d</td>\n",
       "      <td>81b4dd343f5880df806d4c5d4a846c64</td>\n",
       "      <td>4</td>\n",
       "      <td>3</td>\n",
       "      <td>32</td>\n",
       "      <td>0</td>\n",
       "    </tr>\n",
       "  </tbody>\n",
       "</table>\n",
       "</div>"
      ],
      "text/plain": [
       "                               st_id                        st_city_id  \\\n",
       "10  62f91ce9b820a491ee78c108636db089  1587965fb4d4b5afe8428a4a024feb0d   \n",
       "\n",
       "                    st_division_code  st_type_format_id  st_type_loc_id  \\\n",
       "10  81b4dd343f5880df806d4c5d4a846c64                  4               3   \n",
       "\n",
       "    st_type_size_id  st_is_active  \n",
       "10               32             0  "
      ]
     },
     "metadata": {},
     "output_type": "display_data"
    },
    {
     "name": "stdout",
     "output_type": "stream",
     "text": [
      "<class 'pandas.core.frame.DataFrame'>\n",
      "RangeIndex: 12 entries, 0 to 11\n",
      "Data columns (total 7 columns):\n",
      " #   Column             Non-Null Count  Dtype \n",
      "---  ------             --------------  ----- \n",
      " 0   st_id              12 non-null     object\n",
      " 1   st_city_id         12 non-null     object\n",
      " 2   st_division_code   12 non-null     object\n",
      " 3   st_type_format_id  12 non-null     int64 \n",
      " 4   st_type_loc_id     12 non-null     int64 \n",
      " 5   st_type_size_id    12 non-null     int64 \n",
      " 6   st_is_active       12 non-null     int64 \n",
      "dtypes: int64(4), object(3)\n",
      "memory usage: 800.0+ bytes\n"
     ]
    }
   ],
   "source": [
    "display(pr_df.sample(1))\n",
    "pr_df.info()\n",
    "display(pr_st.sample(1))\n",
    "pr_st.info()"
   ]
  },
  {
   "cell_type": "markdown",
   "id": "97659ef5-c29c-4770-b3e3-ed50cd960f4b",
   "metadata": {},
   "source": [
    "#### Открытие файла с распознаванием дат и формированием новых индексов"
   ]
  },
  {
   "cell_type": "code",
   "execution_count": 4,
   "id": "d85a570a-98d0-4cce-8aed-e701114cdad2",
   "metadata": {},
   "outputs": [
    {
     "name": "stdout",
     "output_type": "stream",
     "text": [
      "<class 'pandas.core.frame.DataFrame'>\n",
      "DatetimeIndex: 883015 entries, 2022-08-01 to 2023-07-18\n",
      "Data columns (total 7 columns):\n",
      " #   Column                   Non-Null Count   Dtype  \n",
      "---  ------                   --------------   -----  \n",
      " 0   st_id                    883015 non-null  object \n",
      " 1   pr_sku_id                883015 non-null  object \n",
      " 2   pr_sales_type_id         883015 non-null  int64  \n",
      " 3   pr_sales_in_units        883015 non-null  float64\n",
      " 4   pr_promo_sales_in_units  883015 non-null  float64\n",
      " 5   pr_sales_in_rub          883015 non-null  float64\n",
      " 6   pr_promo_sales_in_rub    883015 non-null  float64\n",
      "dtypes: float64(4), int64(1), object(2)\n",
      "memory usage: 53.9+ MB\n"
     ]
    }
   ],
   "source": [
    "sales_dt = pd.read_csv('sp_sales_task/sales_df_train.csv', index_col = [2], parse_dates = [2])\n",
    "sales_dt.sort_index(inplace=True)\n",
    "sales_dt.info()"
   ]
  },
  {
   "cell_type": "code",
   "execution_count": 5,
   "id": "a79c4db5-c55a-499c-9abc-e0a2589b5969",
   "metadata": {},
   "outputs": [
    {
     "data": {
      "text/html": [
       "<div>\n",
       "<style scoped>\n",
       "    .dataframe tbody tr th:only-of-type {\n",
       "        vertical-align: middle;\n",
       "    }\n",
       "\n",
       "    .dataframe tbody tr th {\n",
       "        vertical-align: top;\n",
       "    }\n",
       "\n",
       "    .dataframe thead th {\n",
       "        text-align: right;\n",
       "    }\n",
       "</style>\n",
       "<table border=\"1\" class=\"dataframe\">\n",
       "  <thead>\n",
       "    <tr style=\"text-align: right;\">\n",
       "      <th></th>\n",
       "      <th>st_id</th>\n",
       "      <th>pr_sku_id</th>\n",
       "      <th>pr_sales_type_id</th>\n",
       "      <th>pr_sales_in_units</th>\n",
       "      <th>pr_promo_sales_in_units</th>\n",
       "      <th>pr_sales_in_rub</th>\n",
       "      <th>pr_promo_sales_in_rub</th>\n",
       "    </tr>\n",
       "    <tr>\n",
       "      <th>date</th>\n",
       "      <th></th>\n",
       "      <th></th>\n",
       "      <th></th>\n",
       "      <th></th>\n",
       "      <th></th>\n",
       "      <th></th>\n",
       "      <th></th>\n",
       "    </tr>\n",
       "  </thead>\n",
       "  <tbody>\n",
       "    <tr>\n",
       "      <th>2023-07-18</th>\n",
       "      <td>6364d3f0f495b6ab9dcf8d3b5c6e0b01</td>\n",
       "      <td>e6449990bb6a761a964e58dd95f7a479</td>\n",
       "      <td>0</td>\n",
       "      <td>2.0</td>\n",
       "      <td>0.0</td>\n",
       "      <td>225.0</td>\n",
       "      <td>0.0</td>\n",
       "    </tr>\n",
       "    <tr>\n",
       "      <th>2023-07-18</th>\n",
       "      <td>42a0e188f5033bc65bf8d78622277c4e</td>\n",
       "      <td>eb341a778d385ad6ebe16e90efb48c08</td>\n",
       "      <td>1</td>\n",
       "      <td>10.0</td>\n",
       "      <td>10.0</td>\n",
       "      <td>2291.0</td>\n",
       "      <td>2291.0</td>\n",
       "    </tr>\n",
       "    <tr>\n",
       "      <th>2023-07-18</th>\n",
       "      <td>42a0e188f5033bc65bf8d78622277c4e</td>\n",
       "      <td>d362736d288d6997016766bfdf846693</td>\n",
       "      <td>1</td>\n",
       "      <td>1.0</td>\n",
       "      <td>1.0</td>\n",
       "      <td>97.0</td>\n",
       "      <td>97.0</td>\n",
       "    </tr>\n",
       "    <tr>\n",
       "      <th>2023-07-18</th>\n",
       "      <td>6364d3f0f495b6ab9dcf8d3b5c6e0b01</td>\n",
       "      <td>22b3872c9768b6070e1111d85e8e9660</td>\n",
       "      <td>0</td>\n",
       "      <td>0.0</td>\n",
       "      <td>0.0</td>\n",
       "      <td>106.0</td>\n",
       "      <td>0.0</td>\n",
       "    </tr>\n",
       "    <tr>\n",
       "      <th>2023-07-18</th>\n",
       "      <td>c81e728d9d4c2f636f067f89cc14862c</td>\n",
       "      <td>a7a9eb3ffb9634e37c50995c34da34d0</td>\n",
       "      <td>0</td>\n",
       "      <td>5.0</td>\n",
       "      <td>0.0</td>\n",
       "      <td>250.0</td>\n",
       "      <td>0.0</td>\n",
       "    </tr>\n",
       "  </tbody>\n",
       "</table>\n",
       "</div>"
      ],
      "text/plain": [
       "                                       st_id  \\\n",
       "date                                           \n",
       "2023-07-18  6364d3f0f495b6ab9dcf8d3b5c6e0b01   \n",
       "2023-07-18  42a0e188f5033bc65bf8d78622277c4e   \n",
       "2023-07-18  42a0e188f5033bc65bf8d78622277c4e   \n",
       "2023-07-18  6364d3f0f495b6ab9dcf8d3b5c6e0b01   \n",
       "2023-07-18  c81e728d9d4c2f636f067f89cc14862c   \n",
       "\n",
       "                                   pr_sku_id  pr_sales_type_id  \\\n",
       "date                                                             \n",
       "2023-07-18  e6449990bb6a761a964e58dd95f7a479                 0   \n",
       "2023-07-18  eb341a778d385ad6ebe16e90efb48c08                 1   \n",
       "2023-07-18  d362736d288d6997016766bfdf846693                 1   \n",
       "2023-07-18  22b3872c9768b6070e1111d85e8e9660                 0   \n",
       "2023-07-18  a7a9eb3ffb9634e37c50995c34da34d0                 0   \n",
       "\n",
       "            pr_sales_in_units  pr_promo_sales_in_units  pr_sales_in_rub  \\\n",
       "date                                                                      \n",
       "2023-07-18                2.0                      0.0            225.0   \n",
       "2023-07-18               10.0                     10.0           2291.0   \n",
       "2023-07-18                1.0                      1.0             97.0   \n",
       "2023-07-18                0.0                      0.0            106.0   \n",
       "2023-07-18                5.0                      0.0            250.0   \n",
       "\n",
       "            pr_promo_sales_in_rub  \n",
       "date                               \n",
       "2023-07-18                    0.0  \n",
       "2023-07-18                 2291.0  \n",
       "2023-07-18                   97.0  \n",
       "2023-07-18                    0.0  \n",
       "2023-07-18                    0.0  "
      ]
     },
     "execution_count": 5,
     "metadata": {},
     "output_type": "execute_result"
    }
   ],
   "source": [
    "sales_dt.tail()"
   ]
  },
  {
   "cell_type": "markdown",
   "id": "53ed59e9-192d-4c88-9fcd-f55602cf3bc2",
   "metadata": {},
   "source": [
    "#### Возможны ли продажи по регулярной цене в промо-день"
   ]
  },
  {
   "cell_type": "code",
   "execution_count": 6,
   "id": "0a4eba6f-82d4-4f7a-86e3-98185b8ed731",
   "metadata": {},
   "outputs": [
    {
     "data": {
      "text/html": [
       "<div>\n",
       "<style scoped>\n",
       "    .dataframe tbody tr th:only-of-type {\n",
       "        vertical-align: middle;\n",
       "    }\n",
       "\n",
       "    .dataframe tbody tr th {\n",
       "        vertical-align: top;\n",
       "    }\n",
       "\n",
       "    .dataframe thead th {\n",
       "        text-align: right;\n",
       "    }\n",
       "</style>\n",
       "<table border=\"1\" class=\"dataframe\">\n",
       "  <thead>\n",
       "    <tr style=\"text-align: right;\">\n",
       "      <th></th>\n",
       "      <th>pr_sales_in_rub</th>\n",
       "      <th>pr_promo_sales_in_rub</th>\n",
       "      <th>price_difference</th>\n",
       "    </tr>\n",
       "    <tr>\n",
       "      <th>pr_sales_type_id</th>\n",
       "      <th></th>\n",
       "      <th></th>\n",
       "      <th></th>\n",
       "    </tr>\n",
       "  </thead>\n",
       "  <tbody>\n",
       "    <tr>\n",
       "      <th>0</th>\n",
       "      <td>266616330.0</td>\n",
       "      <td>0.0</td>\n",
       "      <td>-266616330.0</td>\n",
       "    </tr>\n",
       "    <tr>\n",
       "      <th>1</th>\n",
       "      <td>260283295.0</td>\n",
       "      <td>260283295.0</td>\n",
       "      <td>0.0</td>\n",
       "    </tr>\n",
       "  </tbody>\n",
       "</table>\n",
       "</div>"
      ],
      "text/plain": [
       "                  pr_sales_in_rub  pr_promo_sales_in_rub  price_difference\n",
       "pr_sales_type_id                                                          \n",
       "0                     266616330.0                    0.0      -266616330.0\n",
       "1                     260283295.0            260283295.0               0.0"
      ]
     },
     "execution_count": 6,
     "metadata": {},
     "output_type": "execute_result"
    }
   ],
   "source": [
    "sales_dt['price_difference'] = sales_dt['pr_promo_sales_in_rub'] - sales_dt['pr_sales_in_rub']\n",
    "sales_dt_group_by_sales_type = (\n",
    "    sales_dt\n",
    "    .groupby('pr_sales_type_id')\n",
    "    .agg({'pr_sales_in_rub':'sum', 'pr_promo_sales_in_rub':'sum', 'price_difference':'sum'})\n",
    ")\n",
    "sales_dt_group_by_sales_type.head()"
   ]
  },
  {
   "cell_type": "markdown",
   "id": "fd0ce8ca-e9fa-4c42-86e9-b9e3eaa93974",
   "metadata": {},
   "source": [
    "**Вывод:** сумма продаж в день с промо полность равна общей сумме продаж в этот день. Возможно удаление признаков, связанных с промо."
   ]
  },
  {
   "cell_type": "markdown",
   "id": "5e43d5b9-38fb-4f70-8b7d-e0fe0f03b517",
   "metadata": {},
   "source": [
    "#### Проверка пустых значений в количестве"
   ]
  },
  {
   "cell_type": "code",
   "execution_count": 7,
   "id": "77fb2cae-4f3a-4df5-a756-7560d7d27401",
   "metadata": {},
   "outputs": [
    {
     "name": "stdout",
     "output_type": "stream",
     "text": [
      "нулевые продажи в шт и руб: 454 \n",
      "их доля в данных: 0.05 %\n",
      "нулевые продажи в шт, но не нулевые в рублях: 66089 \n",
      "их доля в данных: 7.48 %\n"
     ]
    },
    {
     "data": {
      "text/html": [
       "<div>\n",
       "<style scoped>\n",
       "    .dataframe tbody tr th:only-of-type {\n",
       "        vertical-align: middle;\n",
       "    }\n",
       "\n",
       "    .dataframe tbody tr th {\n",
       "        vertical-align: top;\n",
       "    }\n",
       "\n",
       "    .dataframe thead th {\n",
       "        text-align: right;\n",
       "    }\n",
       "</style>\n",
       "<table border=\"1\" class=\"dataframe\">\n",
       "  <thead>\n",
       "    <tr style=\"text-align: right;\">\n",
       "      <th></th>\n",
       "      <th>st_id</th>\n",
       "      <th>pr_sku_id</th>\n",
       "      <th>pr_sales_type_id</th>\n",
       "      <th>pr_sales_in_units</th>\n",
       "      <th>pr_promo_sales_in_units</th>\n",
       "      <th>pr_sales_in_rub</th>\n",
       "      <th>pr_promo_sales_in_rub</th>\n",
       "      <th>price_difference</th>\n",
       "    </tr>\n",
       "    <tr>\n",
       "      <th>date</th>\n",
       "      <th></th>\n",
       "      <th></th>\n",
       "      <th></th>\n",
       "      <th></th>\n",
       "      <th></th>\n",
       "      <th></th>\n",
       "      <th></th>\n",
       "      <th></th>\n",
       "    </tr>\n",
       "  </thead>\n",
       "  <tbody>\n",
       "    <tr>\n",
       "      <th>2022-08-01</th>\n",
       "      <td>fa7cdfad1a5aaf8370ebeda47a1ff1c3</td>\n",
       "      <td>3b9ff9697e5688d38d5a0e7b0f0d519e</td>\n",
       "      <td>0</td>\n",
       "      <td>0.0</td>\n",
       "      <td>0.0</td>\n",
       "      <td>59.0</td>\n",
       "      <td>0.0</td>\n",
       "      <td>-59.0</td>\n",
       "    </tr>\n",
       "    <tr>\n",
       "      <th>2022-08-01</th>\n",
       "      <td>fa7cdfad1a5aaf8370ebeda47a1ff1c3</td>\n",
       "      <td>f28e2941cd8ffdf35d778c3578cf7041</td>\n",
       "      <td>0</td>\n",
       "      <td>0.0</td>\n",
       "      <td>0.0</td>\n",
       "      <td>83.0</td>\n",
       "      <td>0.0</td>\n",
       "      <td>-83.0</td>\n",
       "    </tr>\n",
       "    <tr>\n",
       "      <th>2022-08-01</th>\n",
       "      <td>16a5cdae362b8d27a1d8f8c7b78b4330</td>\n",
       "      <td>706b9e39dd3ca40669b5f5c74bfebeb8</td>\n",
       "      <td>0</td>\n",
       "      <td>0.0</td>\n",
       "      <td>0.0</td>\n",
       "      <td>76.0</td>\n",
       "      <td>0.0</td>\n",
       "      <td>-76.0</td>\n",
       "    </tr>\n",
       "    <tr>\n",
       "      <th>2022-08-01</th>\n",
       "      <td>16a5cdae362b8d27a1d8f8c7b78b4330</td>\n",
       "      <td>04bbb07b1057b09d04209991f3eadd8f</td>\n",
       "      <td>1</td>\n",
       "      <td>0.0</td>\n",
       "      <td>0.0</td>\n",
       "      <td>85.0</td>\n",
       "      <td>85.0</td>\n",
       "      <td>0.0</td>\n",
       "    </tr>\n",
       "    <tr>\n",
       "      <th>2022-08-01</th>\n",
       "      <td>16a5cdae362b8d27a1d8f8c7b78b4330</td>\n",
       "      <td>90702dbda20da8380fb559b1ea8c0140</td>\n",
       "      <td>0</td>\n",
       "      <td>0.0</td>\n",
       "      <td>0.0</td>\n",
       "      <td>98.0</td>\n",
       "      <td>0.0</td>\n",
       "      <td>-98.0</td>\n",
       "    </tr>\n",
       "  </tbody>\n",
       "</table>\n",
       "</div>"
      ],
      "text/plain": [
       "                                       st_id  \\\n",
       "date                                           \n",
       "2022-08-01  fa7cdfad1a5aaf8370ebeda47a1ff1c3   \n",
       "2022-08-01  fa7cdfad1a5aaf8370ebeda47a1ff1c3   \n",
       "2022-08-01  16a5cdae362b8d27a1d8f8c7b78b4330   \n",
       "2022-08-01  16a5cdae362b8d27a1d8f8c7b78b4330   \n",
       "2022-08-01  16a5cdae362b8d27a1d8f8c7b78b4330   \n",
       "\n",
       "                                   pr_sku_id  pr_sales_type_id  \\\n",
       "date                                                             \n",
       "2022-08-01  3b9ff9697e5688d38d5a0e7b0f0d519e                 0   \n",
       "2022-08-01  f28e2941cd8ffdf35d778c3578cf7041                 0   \n",
       "2022-08-01  706b9e39dd3ca40669b5f5c74bfebeb8                 0   \n",
       "2022-08-01  04bbb07b1057b09d04209991f3eadd8f                 1   \n",
       "2022-08-01  90702dbda20da8380fb559b1ea8c0140                 0   \n",
       "\n",
       "            pr_sales_in_units  pr_promo_sales_in_units  pr_sales_in_rub  \\\n",
       "date                                                                      \n",
       "2022-08-01                0.0                      0.0             59.0   \n",
       "2022-08-01                0.0                      0.0             83.0   \n",
       "2022-08-01                0.0                      0.0             76.0   \n",
       "2022-08-01                0.0                      0.0             85.0   \n",
       "2022-08-01                0.0                      0.0             98.0   \n",
       "\n",
       "            pr_promo_sales_in_rub  price_difference  \n",
       "date                                                 \n",
       "2022-08-01                    0.0             -59.0  \n",
       "2022-08-01                    0.0             -83.0  \n",
       "2022-08-01                    0.0             -76.0  \n",
       "2022-08-01                   85.0               0.0  \n",
       "2022-08-01                    0.0             -98.0  "
      ]
     },
     "execution_count": 7,
     "metadata": {},
     "output_type": "execute_result"
    }
   ],
   "source": [
    "sales_units_zero = sales_dt[sales_dt['pr_sales_in_units'] == 0]\n",
    "print(\n",
    "    'нулевые продажи в шт и руб:', \n",
    "    sales_units_zero[sales_units_zero['pr_sales_in_rub'] == 0]['pr_sales_in_rub'].count(), \n",
    "    '\\nих доля в данных:', \n",
    "    round(sales_units_zero[sales_units_zero['pr_sales_in_rub'] == 0]['pr_sales_in_rub'].count() / sales_dt['pr_sales_in_rub'].count() * 100, 2), '%'\n",
    ")\n",
    "print(\n",
    "    'нулевые продажи в шт, но не нулевые в рублях:', \n",
    "    sales_units_zero[sales_units_zero['pr_sales_in_rub'] != 0]['pr_sales_in_rub'].count(), \n",
    "    '\\nих доля в данных:', \n",
    "    round(sales_units_zero[sales_units_zero['pr_sales_in_rub'] != 0]['pr_sales_in_rub'].count() / sales_dt['pr_sales_in_rub'].count() * 100, 2), '%'\n",
    ")\n",
    "sales_units_zero[sales_units_zero['pr_sales_in_rub'] != 0].head()"
   ]
  },
  {
   "cell_type": "markdown",
   "id": "d9d79393-418b-4762-a064-9bfe8a400cfa",
   "metadata": {},
   "source": [
    "**Вывод:** \n",
    "- в данных имеются записи, которые можно удалить (их доля 0.05%): нулевые значения в количестве проданных товаров и их стоимости\n",
    "- записи, по которым требуется уточнение в бизнесе (их доля 7.48%): нулевые значения в количестве проданных товаров и ненулевые в их стоимости."
   ]
  },
  {
   "cell_type": "markdown",
   "id": "3e79c104-e75a-4507-be26-843b34a70fbb",
   "metadata": {},
   "source": [
    "#### Количество активных магазинов"
   ]
  },
  {
   "cell_type": "code",
   "execution_count": 8,
   "id": "da05619a-810c-4e1c-8ef9-e1c8f73c5a6f",
   "metadata": {},
   "outputs": [
    {
     "name": "stdout",
     "output_type": "stream",
     "text": [
      "количество магазинов без маркера активности: 2 \n",
      "их доля в общем количестве магазинов: 0.17\n"
     ]
    }
   ],
   "source": [
    "print('количество магазинов без маркера активности:', \n",
    "      pr_st[pr_st['st_is_active'] == 0]['st_id'].count(), \n",
    "      '\\nих доля в общем количестве магазинов:', \n",
    "      round(pr_st[pr_st['st_is_active'] == 0]['st_id'].count() / pr_st['st_id'].count(), 2)\n",
    "     )"
   ]
  },
  {
   "cell_type": "markdown",
   "id": "5eb77af2-e89a-4926-850c-eb01ec6a4870",
   "metadata": {},
   "source": [
    "#### Количество данных по неактивным магазинам"
   ]
  },
  {
   "cell_type": "code",
   "execution_count": 9,
   "id": "4327189f-3823-420b-a70d-bbd0fdd121c2",
   "metadata": {},
   "outputs": [
    {
     "name": "stdout",
     "output_type": "stream",
     "text": [
      "количество записей по неактивным магазинам: 729 \n",
      "их доля в данных: 0.08 %\n"
     ]
    }
   ],
   "source": [
    "unactive_store_sales = pr_st[pr_st['st_is_active'] == 0].merge(sales_dt, on='st_id', how='left')\n",
    "print(\n",
    "    'количество записей по неактивным магазинам:', \n",
    "    unactive_store_sales['pr_sales_in_rub'].count(), \n",
    "    '\\nих доля в данных:', \n",
    "    round(unactive_store_sales['pr_sales_in_rub'].count() / sales_dt['pr_sales_in_rub'].count() * 100, 2), '%'\n",
    ")"
   ]
  },
  {
   "cell_type": "markdown",
   "id": "5ffb0132-d761-447a-9094-4b99edf13b69",
   "metadata": {},
   "source": [
    "**Вывод:** в данных найдены магазины без маркера активности. Возможно, их можно удалить, требуется уточнение у бизнеса."
   ]
  },
  {
   "cell_type": "markdown",
   "id": "d2c6bda7-eae4-4537-a258-958321659ac4",
   "metadata": {},
   "source": [
    "### Выводы\n",
    "- Данные загружены с распознованием дат.\n",
    "- Данные предоставлены за период с `01.08.2022` по `18.07.2023`\n",
    "- Можем удалить признаки, связанные с промо, т.к. они дублируют общие значения\n",
    "- Можно удалить записи (около 7.5% датасета):\n",
    "    - с нулевыми значениями в количестве проданных товаров и их стоимости,\n",
    "    - с нулевыми значениями в количестве проданных товаров и ненулевыми в их стоимости (действие согласовано с бизнесом)\n",
    "- Можно удалить магазины без маркера активности (действие согласовано с бизнесом):\n",
    "    - им соответствует 729 записей, что составляет 0.08% датасета"
   ]
  },
  {
   "cell_type": "markdown",
   "id": "d78d96b6-9e05-430a-b7ce-bb90835579d7",
   "metadata": {},
   "source": [
    "## Предобработка данных"
   ]
  },
  {
   "cell_type": "markdown",
   "id": "1b8c45f4-5ef9-4ce5-a15b-0d18ecbe91ea",
   "metadata": {},
   "source": [
    "#### Удаление данных, связанных с промо"
   ]
  },
  {
   "cell_type": "code",
   "execution_count": 26,
   "id": "029872b5-46bd-48d7-8fd7-5859bbf5e23e",
   "metadata": {},
   "outputs": [
    {
     "data": {
      "text/html": [
       "<div>\n",
       "<style scoped>\n",
       "    .dataframe tbody tr th:only-of-type {\n",
       "        vertical-align: middle;\n",
       "    }\n",
       "\n",
       "    .dataframe tbody tr th {\n",
       "        vertical-align: top;\n",
       "    }\n",
       "\n",
       "    .dataframe thead th {\n",
       "        text-align: right;\n",
       "    }\n",
       "</style>\n",
       "<table border=\"1\" class=\"dataframe\">\n",
       "  <thead>\n",
       "    <tr style=\"text-align: right;\">\n",
       "      <th></th>\n",
       "      <th>st_id</th>\n",
       "      <th>pr_sku_id</th>\n",
       "      <th>pr_sales_in_units</th>\n",
       "      <th>pr_sales_in_rub</th>\n",
       "    </tr>\n",
       "    <tr>\n",
       "      <th>date</th>\n",
       "      <th></th>\n",
       "      <th></th>\n",
       "      <th></th>\n",
       "      <th></th>\n",
       "    </tr>\n",
       "  </thead>\n",
       "  <tbody>\n",
       "    <tr>\n",
       "      <th>2022-08-01</th>\n",
       "      <td>42a0e188f5033bc65bf8d78622277c4e</td>\n",
       "      <td>5781a2637b476d781eb3134581b32044</td>\n",
       "      <td>2.0</td>\n",
       "      <td>463.0</td>\n",
       "    </tr>\n",
       "    <tr>\n",
       "      <th>2022-08-01</th>\n",
       "      <td>c81e728d9d4c2f636f067f89cc14862c</td>\n",
       "      <td>82704fa1c2dbdb928bf4eed0667260dd</td>\n",
       "      <td>2.0</td>\n",
       "      <td>204.0</td>\n",
       "    </tr>\n",
       "    <tr>\n",
       "      <th>2022-08-01</th>\n",
       "      <td>c81e728d9d4c2f636f067f89cc14862c</td>\n",
       "      <td>0cc8850f66397af21700e3c060a5210c</td>\n",
       "      <td>9.0</td>\n",
       "      <td>639.0</td>\n",
       "    </tr>\n",
       "    <tr>\n",
       "      <th>2022-08-01</th>\n",
       "      <td>fa7cdfad1a5aaf8370ebeda47a1ff1c3</td>\n",
       "      <td>c4a665596d4f67cecb7542c9fad407ee</td>\n",
       "      <td>13.0</td>\n",
       "      <td>1734.0</td>\n",
       "    </tr>\n",
       "    <tr>\n",
       "      <th>2022-08-01</th>\n",
       "      <td>c81e728d9d4c2f636f067f89cc14862c</td>\n",
       "      <td>dce1f234d6424aa61f8e7ce0baffd9af</td>\n",
       "      <td>2.0</td>\n",
       "      <td>313.0</td>\n",
       "    </tr>\n",
       "  </tbody>\n",
       "</table>\n",
       "</div>"
      ],
      "text/plain": [
       "                                       st_id  \\\n",
       "date                                           \n",
       "2022-08-01  42a0e188f5033bc65bf8d78622277c4e   \n",
       "2022-08-01  c81e728d9d4c2f636f067f89cc14862c   \n",
       "2022-08-01  c81e728d9d4c2f636f067f89cc14862c   \n",
       "2022-08-01  fa7cdfad1a5aaf8370ebeda47a1ff1c3   \n",
       "2022-08-01  c81e728d9d4c2f636f067f89cc14862c   \n",
       "\n",
       "                                   pr_sku_id  pr_sales_in_units  \\\n",
       "date                                                              \n",
       "2022-08-01  5781a2637b476d781eb3134581b32044                2.0   \n",
       "2022-08-01  82704fa1c2dbdb928bf4eed0667260dd                2.0   \n",
       "2022-08-01  0cc8850f66397af21700e3c060a5210c                9.0   \n",
       "2022-08-01  c4a665596d4f67cecb7542c9fad407ee               13.0   \n",
       "2022-08-01  dce1f234d6424aa61f8e7ce0baffd9af                2.0   \n",
       "\n",
       "            pr_sales_in_rub  \n",
       "date                         \n",
       "2022-08-01            463.0  \n",
       "2022-08-01            204.0  \n",
       "2022-08-01            639.0  \n",
       "2022-08-01           1734.0  \n",
       "2022-08-01            313.0  "
      ]
     },
     "execution_count": 26,
     "metadata": {},
     "output_type": "execute_result"
    }
   ],
   "source": [
    "sales_dt = sales_dt.drop(['pr_sales_type_id', 'pr_promo_sales_in_units', 'pr_promo_sales_in_rub', 'price_difference'], axis=1)\n",
    "sales_dt.head()"
   ]
  },
  {
   "cell_type": "markdown",
   "id": "82325f74-9bc0-4d98-a080-19c9e363a852",
   "metadata": {},
   "source": [
    "#### Удаление данных с нулями в количестве"
   ]
  },
  {
   "cell_type": "code",
   "execution_count": 35,
   "id": "ce80b6b2-c6b0-46a0-9f54-1d0366a8df95",
   "metadata": {},
   "outputs": [
    {
     "name": "stdout",
     "output_type": "stream",
     "text": [
      "<class 'pandas.core.frame.DataFrame'>\n",
      "DatetimeIndex: 816472 entries, 2022-08-01 to 2023-07-18\n",
      "Data columns (total 4 columns):\n",
      " #   Column             Non-Null Count   Dtype  \n",
      "---  ------             --------------   -----  \n",
      " 0   st_id              816472 non-null  object \n",
      " 1   pr_sku_id          816472 non-null  object \n",
      " 2   pr_sales_in_units  816472 non-null  float64\n",
      " 3   pr_sales_in_rub    816472 non-null  float64\n",
      "dtypes: float64(2), object(2)\n",
      "memory usage: 31.1+ MB\n"
     ]
    },
    {
     "data": {
      "text/html": [
       "<div>\n",
       "<style scoped>\n",
       "    .dataframe tbody tr th:only-of-type {\n",
       "        vertical-align: middle;\n",
       "    }\n",
       "\n",
       "    .dataframe tbody tr th {\n",
       "        vertical-align: top;\n",
       "    }\n",
       "\n",
       "    .dataframe thead th {\n",
       "        text-align: right;\n",
       "    }\n",
       "</style>\n",
       "<table border=\"1\" class=\"dataframe\">\n",
       "  <thead>\n",
       "    <tr style=\"text-align: right;\">\n",
       "      <th></th>\n",
       "      <th>st_id</th>\n",
       "      <th>pr_sku_id</th>\n",
       "      <th>pr_sales_in_units</th>\n",
       "      <th>pr_sales_in_rub</th>\n",
       "    </tr>\n",
       "    <tr>\n",
       "      <th>date</th>\n",
       "      <th></th>\n",
       "      <th></th>\n",
       "      <th></th>\n",
       "      <th></th>\n",
       "    </tr>\n",
       "  </thead>\n",
       "  <tbody>\n",
       "    <tr>\n",
       "      <th>2022-09-18</th>\n",
       "      <td>c81e728d9d4c2f636f067f89cc14862c</td>\n",
       "      <td>c24c65259d90ed4a19ab37b6fd6fe716</td>\n",
       "      <td>48.0</td>\n",
       "      <td>8174.0</td>\n",
       "    </tr>\n",
       "  </tbody>\n",
       "</table>\n",
       "</div>"
      ],
      "text/plain": [
       "                                       st_id  \\\n",
       "date                                           \n",
       "2022-09-18  c81e728d9d4c2f636f067f89cc14862c   \n",
       "\n",
       "                                   pr_sku_id  pr_sales_in_units  \\\n",
       "date                                                              \n",
       "2022-09-18  c24c65259d90ed4a19ab37b6fd6fe716               48.0   \n",
       "\n",
       "            pr_sales_in_rub  \n",
       "date                         \n",
       "2022-09-18           8174.0  "
      ]
     },
     "execution_count": 35,
     "metadata": {},
     "output_type": "execute_result"
    }
   ],
   "source": [
    "sales_dt = sales_dt.loc[sales_dt['pr_sales_in_units'] != 0]\n",
    "sales_dt.info()\n",
    "sales_dt.sample()"
   ]
  },
  {
   "cell_type": "markdown",
   "id": "051f496a-3733-4561-a128-75d68bf78e4e",
   "metadata": {},
   "source": [
    "#### Удаление данных по неактивным магазинам"
   ]
  },
  {
   "cell_type": "code",
   "execution_count": 49,
   "id": "f180f3c8-3a59-4a55-9670-2c97ad63c0a5",
   "metadata": {},
   "outputs": [],
   "source": [
    "unactive_st = pr_st[pr_st['st_is_active'] == 0]\n",
    "active_pr_st = pr_st.loc[pr_st['st_is_active'] != 0]\n",
    "\n",
    "sales_dt = sales_dt.loc[~sales_dt['st_id'].isin(list(unactive_st['st_id']))]"
   ]
  },
  {
   "cell_type": "markdown",
   "id": "ec3c540c-dd94-4133-b694-ab53debb3717",
   "metadata": {},
   "source": [
    "#### Импорт календаря РФ"
   ]
  },
  {
   "cell_type": "code",
   "execution_count": 14,
   "id": "688f7ad8-cc58-464b-997b-fe9a44211e26",
   "metadata": {},
   "outputs": [
    {
     "name": "stdout",
     "output_type": "stream",
     "text": [
      "<class 'pandas.core.frame.DataFrame'>\n",
      "RangeIndex: 3653 entries, 0 to 3652\n",
      "Data columns (total 7 columns):\n",
      " #   Column   Non-Null Count  Dtype \n",
      "---  ------   --------------  ----- \n",
      " 0   year     3653 non-null   int64 \n",
      " 1   day      3653 non-null   int64 \n",
      " 2   weekday  3653 non-null   int64 \n",
      " 3   date     3653 non-null   object\n",
      " 4   calday   3653 non-null   int64 \n",
      " 5   holiday  3653 non-null   int64 \n",
      " 6   covid    3653 non-null   int64 \n",
      "dtypes: int64(6), object(1)\n",
      "memory usage: 199.9+ KB\n"
     ]
    },
    {
     "data": {
      "text/html": [
       "<div>\n",
       "<style scoped>\n",
       "    .dataframe tbody tr th:only-of-type {\n",
       "        vertical-align: middle;\n",
       "    }\n",
       "\n",
       "    .dataframe tbody tr th {\n",
       "        vertical-align: top;\n",
       "    }\n",
       "\n",
       "    .dataframe thead th {\n",
       "        text-align: right;\n",
       "    }\n",
       "</style>\n",
       "<table border=\"1\" class=\"dataframe\">\n",
       "  <thead>\n",
       "    <tr style=\"text-align: right;\">\n",
       "      <th></th>\n",
       "      <th>year</th>\n",
       "      <th>day</th>\n",
       "      <th>weekday</th>\n",
       "      <th>date</th>\n",
       "      <th>calday</th>\n",
       "      <th>holiday</th>\n",
       "      <th>covid</th>\n",
       "    </tr>\n",
       "  </thead>\n",
       "  <tbody>\n",
       "    <tr>\n",
       "      <th>977</th>\n",
       "      <td>2017</td>\n",
       "      <td>4</td>\n",
       "      <td>1</td>\n",
       "      <td>04.09.2017</td>\n",
       "      <td>20170904</td>\n",
       "      <td>0</td>\n",
       "      <td>0</td>\n",
       "    </tr>\n",
       "  </tbody>\n",
       "</table>\n",
       "</div>"
      ],
      "text/plain": [
       "     year  day  weekday        date    calday  holiday  covid\n",
       "977  2017    4        1  04.09.2017  20170904        0      0"
      ]
     },
     "execution_count": 14,
     "metadata": {},
     "output_type": "execute_result"
    }
   ],
   "source": [
    "calendar = pd.read_csv('holidays_covid_calendar.csv')\n",
    "calendar.info()\n",
    "calendar.sample()"
   ]
  },
  {
   "cell_type": "code",
   "execution_count": 51,
   "id": "f0566ae0-5d70-4c5e-9835-a89c1abcc646",
   "metadata": {},
   "outputs": [],
   "source": [
    "# list(unactive_st['st_id'])\n",
    "# test_1 = sales_dt\n",
    "# test_1 = test_1.loc[~test_1['st_id'].isin(list(unactive_st['st_id']))]\n",
    "# test_1.info()\n",
    "# test_1.head()\n",
    "# sales_dt.info()\n",
    "# sales_dt.head()"
   ]
  },
  {
   "cell_type": "code",
   "execution_count": 52,
   "id": "773a758b-c105-42fa-90b8-bf6af647db2d",
   "metadata": {},
   "outputs": [],
   "source": [
    "# calendar['covid'].value_counts()"
   ]
  },
  {
   "cell_type": "markdown",
   "id": "689602fe-72cb-45fe-966e-77baf0be56a3",
   "metadata": {},
   "source": [
    "## Чек-лист\n",
    "1. Файл в зафиксированном формате с результатом прогноза спроса (sales_submission.csv).\n",
    "2. Воспроизводимый код на Python\n",
    "3. Описание решения:\n",
    "    \n",
    "    a. Описание обученной модели прогноза спроса\n",
    "    \n",
    "        i. Признаки\n",
    "        ii. интерпретация (shapley values),\n",
    "        iii. кросс-валидация\n",
    "        iv. алгоритмы\n",
    "    \n",
    "    b. Описание вашего алгоритма оптимизации:\n",
    "    \n",
    "        i. методология расчетов\n",
    "        ii. скорость оптимизации"
   ]
  }
 ],
 "metadata": {
  "kernelspec": {
   "display_name": "Python 3 (ipykernel)",
   "language": "python",
   "name": "python3"
  },
  "language_info": {
   "codemirror_mode": {
    "name": "ipython",
    "version": 3
   },
   "file_extension": ".py",
   "mimetype": "text/x-python",
   "name": "python",
   "nbconvert_exporter": "python",
   "pygments_lexer": "ipython3",
   "version": "3.10.12"
  }
 },
 "nbformat": 4,
 "nbformat_minor": 5
}
