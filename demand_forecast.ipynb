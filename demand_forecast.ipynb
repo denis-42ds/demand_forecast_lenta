{
 "cells": [
  {
   "cell_type": "markdown",
   "id": "75495548-9daa-4da6-8b80-b18723edfaeb",
   "metadata": {},
   "source": [
    "# Модель прогнозирования спроса\n",
    "Краткое описание:\n",
    "<br>Необходимо создать алгоритм прогноза спроса на 14 дней для товаров собственного\n",
    "производства. Гранулярность ТК-SKU-День.\n",
    "\n",
    "Задача:\n",
    "<br>Построить модель прогноза спроса на основе мастер данных и данных продаж с учетом разных\n",
    "признаков.\n",
    "\n",
    "Метрика качества:\n",
    "<br>`WAPE`:\n",
    "<br>`def wape(y_true: np.array, y_pred: np.array):`\n",
    "    <br>`return np.sum(np.abs(y_true-y_pred))/np.sum(np.abs(y_true))`"
   ]
  },
  {
   "cell_type": "markdown",
   "id": "745068c6-bac0-415f-9c40-233ea17f63c0",
   "metadata": {},
   "source": [
    "### Описание данных\n",
    "1) sales_df_train.csv –данные по продажам за скользящий год для обучения.\n",
    "    * Столбцы:\n",
    "        - st_id – захэшированное id магазина;\n",
    "        - pr_sku_id – захэшированное id товара;\n",
    "        - date – дата;\n",
    "        - pr_sales_type_id – флаг наличия промо;\n",
    "        - pr_sales_in_units – число проданных товаров всего (промо и без); **описание изменено после уточнения у бизнеса**\n",
    "        - pr_promo_sales_in_units – число проданных товаров с признаком промо;\n",
    "        - pr_sales_in_rub – продажи в РУБ всего (промо и без); **описание изменено после уточнения у бизнеса**\n",
    "        - pr_promo_sales_in_rub – продажи с признаком промо в РУБ;\n",
    "2) pr_df.csv – данные по товарной иерархии.\n",
    "<br>От большего к меньшему pr_group_id - pr_cat_id - pr_subcat_id - pr_sku_id.\n",
    "    - Столбцы:\n",
    "        - pr_group_id – захэшированная группа товара;\n",
    "        - pr_cat_id – захэшированная категория товара;\n",
    "        - pr_subcat_id – захэшированная подкатегория товара;\n",
    "        - pr_sku_id – захэшированное id товара;\n",
    "        - pr_uom_id (маркер, обозначающий продаётся товар на вес или в ШТ).\n",
    "3) pr_st.csv – данные по магазинам.\n",
    "    - Столбцы:\n",
    "        - st_id – захэшированное id магазина;\n",
    "        - st_city_id – захэшированное id города;\n",
    "        - st_division_code – захэшированное id дивизиона;\n",
    "        - st_type_format_id – id формата магазина;\n",
    "        - st_type_loc_id – id тип локации/окружения магазина;\n",
    "        - st_type_size_id – id типа размера магазина;\n",
    "        - st_is_active – флаг активного магазина на данный момент."
   ]
  },
  {
   "cell_type": "markdown",
   "id": "5bc1a7fe-3b33-4e42-96cd-9817860179af",
   "metadata": {},
   "source": [
    "## Загрузка библиотек"
   ]
  },
  {
   "cell_type": "code",
   "execution_count": 1,
   "id": "3ad5d59f-b7eb-4db9-80a4-0c30225f281a",
   "metadata": {},
   "outputs": [],
   "source": [
    "import pandas as pd\n",
    "#import numpy as np\n",
    "import matplotlib.pyplot as plt\n",
    "import seaborn as sns\n",
    "import warnings\n",
    "import phik\n",
    "from phik.report import plot_correlation_matrix\n",
    "#from scipy.stats import norm\n",
    "#from sklearn.preprocessing import StandardScaler\n",
    "#from scipy import stats\n",
    "warnings.filterwarnings('ignore')\n",
    "%matplotlib inline"
   ]
  },
  {
   "cell_type": "markdown",
   "id": "53575156-6de2-4211-b418-ad24501d768d",
   "metadata": {},
   "source": [
    "## Знакомство с данными"
   ]
  },
  {
   "cell_type": "markdown",
   "id": "f3a15340-c36c-4912-8314-2c3a62b073d3",
   "metadata": {},
   "source": [
    "Пример файла с результатом прогноза"
   ]
  },
  {
   "cell_type": "code",
   "execution_count": 2,
   "id": "57373e08-caea-4588-b3d6-dd206971cdae",
   "metadata": {
    "scrolled": true
   },
   "outputs": [],
   "source": [
    "# sales_submission_ex = pd.read_csv('sp_sales_task/sales_submission.csv')\n",
    "# sales_submission_ex.head()"
   ]
  },
  {
   "cell_type": "code",
   "execution_count": 3,
   "id": "945fe72b-316e-4419-8dd5-4368b4d620df",
   "metadata": {},
   "outputs": [],
   "source": [
    "pr_df = pd.read_csv('sp_sales_task/pr_df.csv')\n",
    "pr_st = pd.read_csv('sp_sales_task/st_df.csv')\n",
    "sales_df = pd.read_csv('sp_sales_task/sales_df_train.csv')"
   ]
  },
  {
   "cell_type": "code",
   "execution_count": 4,
   "id": "15e44bce-c4d5-44e5-859c-7ca6a806a564",
   "metadata": {},
   "outputs": [
    {
     "data": {
      "text/html": [
       "<div>\n",
       "<style scoped>\n",
       "    .dataframe tbody tr th:only-of-type {\n",
       "        vertical-align: middle;\n",
       "    }\n",
       "\n",
       "    .dataframe tbody tr th {\n",
       "        vertical-align: top;\n",
       "    }\n",
       "\n",
       "    .dataframe thead th {\n",
       "        text-align: right;\n",
       "    }\n",
       "</style>\n",
       "<table border=\"1\" class=\"dataframe\">\n",
       "  <thead>\n",
       "    <tr style=\"text-align: right;\">\n",
       "      <th></th>\n",
       "      <th>pr_sku_id</th>\n",
       "      <th>pr_group_id</th>\n",
       "      <th>pr_cat_id</th>\n",
       "      <th>pr_subcat_id</th>\n",
       "      <th>pr_uom_id</th>\n",
       "    </tr>\n",
       "  </thead>\n",
       "  <tbody>\n",
       "    <tr>\n",
       "      <th>1772</th>\n",
       "      <td>ee6958ee94a398e249bab04f28660b3d</td>\n",
       "      <td>c74d97b01eae257e44aa9d5bade97baf</td>\n",
       "      <td>7a6a74cbe87bc60030a4bd041dd47b78</td>\n",
       "      <td>ad70a449a504a145c44dbd5228b16c34</td>\n",
       "      <td>17</td>\n",
       "    </tr>\n",
       "  </tbody>\n",
       "</table>\n",
       "</div>"
      ],
      "text/plain": [
       "                             pr_sku_id                       pr_group_id  \\\n",
       "1772  ee6958ee94a398e249bab04f28660b3d  c74d97b01eae257e44aa9d5bade97baf   \n",
       "\n",
       "                             pr_cat_id                      pr_subcat_id  \\\n",
       "1772  7a6a74cbe87bc60030a4bd041dd47b78  ad70a449a504a145c44dbd5228b16c34   \n",
       "\n",
       "      pr_uom_id  \n",
       "1772         17  "
      ]
     },
     "metadata": {},
     "output_type": "display_data"
    },
    {
     "name": "stdout",
     "output_type": "stream",
     "text": [
      "<class 'pandas.core.frame.DataFrame'>\n",
      "RangeIndex: 2050 entries, 0 to 2049\n",
      "Data columns (total 5 columns):\n",
      " #   Column        Non-Null Count  Dtype \n",
      "---  ------        --------------  ----- \n",
      " 0   pr_sku_id     2050 non-null   object\n",
      " 1   pr_group_id   2050 non-null   object\n",
      " 2   pr_cat_id     2050 non-null   object\n",
      " 3   pr_subcat_id  2050 non-null   object\n",
      " 4   pr_uom_id     2050 non-null   int64 \n",
      "dtypes: int64(1), object(4)\n",
      "memory usage: 80.2+ KB\n"
     ]
    },
    {
     "data": {
      "text/html": [
       "<div>\n",
       "<style scoped>\n",
       "    .dataframe tbody tr th:only-of-type {\n",
       "        vertical-align: middle;\n",
       "    }\n",
       "\n",
       "    .dataframe tbody tr th {\n",
       "        vertical-align: top;\n",
       "    }\n",
       "\n",
       "    .dataframe thead th {\n",
       "        text-align: right;\n",
       "    }\n",
       "</style>\n",
       "<table border=\"1\" class=\"dataframe\">\n",
       "  <thead>\n",
       "    <tr style=\"text-align: right;\">\n",
       "      <th></th>\n",
       "      <th>st_id</th>\n",
       "      <th>st_city_id</th>\n",
       "      <th>st_division_code</th>\n",
       "      <th>st_type_format_id</th>\n",
       "      <th>st_type_loc_id</th>\n",
       "      <th>st_type_size_id</th>\n",
       "      <th>st_is_active</th>\n",
       "    </tr>\n",
       "  </thead>\n",
       "  <tbody>\n",
       "    <tr>\n",
       "      <th>7</th>\n",
       "      <td>c81e728d9d4c2f636f067f89cc14862c</td>\n",
       "      <td>908c9a564a86426585b29f5335b619bc</td>\n",
       "      <td>429a86ff6336c144ddaf6144f52ab52c</td>\n",
       "      <td>1</td>\n",
       "      <td>1</td>\n",
       "      <td>8</td>\n",
       "      <td>1</td>\n",
       "    </tr>\n",
       "  </tbody>\n",
       "</table>\n",
       "</div>"
      ],
      "text/plain": [
       "                              st_id                        st_city_id  \\\n",
       "7  c81e728d9d4c2f636f067f89cc14862c  908c9a564a86426585b29f5335b619bc   \n",
       "\n",
       "                   st_division_code  st_type_format_id  st_type_loc_id  \\\n",
       "7  429a86ff6336c144ddaf6144f52ab52c                  1               1   \n",
       "\n",
       "   st_type_size_id  st_is_active  \n",
       "7                8             1  "
      ]
     },
     "metadata": {},
     "output_type": "display_data"
    },
    {
     "name": "stdout",
     "output_type": "stream",
     "text": [
      "<class 'pandas.core.frame.DataFrame'>\n",
      "RangeIndex: 12 entries, 0 to 11\n",
      "Data columns (total 7 columns):\n",
      " #   Column             Non-Null Count  Dtype \n",
      "---  ------             --------------  ----- \n",
      " 0   st_id              12 non-null     object\n",
      " 1   st_city_id         12 non-null     object\n",
      " 2   st_division_code   12 non-null     object\n",
      " 3   st_type_format_id  12 non-null     int64 \n",
      " 4   st_type_loc_id     12 non-null     int64 \n",
      " 5   st_type_size_id    12 non-null     int64 \n",
      " 6   st_is_active       12 non-null     int64 \n",
      "dtypes: int64(4), object(3)\n",
      "memory usage: 800.0+ bytes\n"
     ]
    },
    {
     "data": {
      "text/html": [
       "<div>\n",
       "<style scoped>\n",
       "    .dataframe tbody tr th:only-of-type {\n",
       "        vertical-align: middle;\n",
       "    }\n",
       "\n",
       "    .dataframe tbody tr th {\n",
       "        vertical-align: top;\n",
       "    }\n",
       "\n",
       "    .dataframe thead th {\n",
       "        text-align: right;\n",
       "    }\n",
       "</style>\n",
       "<table border=\"1\" class=\"dataframe\">\n",
       "  <thead>\n",
       "    <tr style=\"text-align: right;\">\n",
       "      <th></th>\n",
       "      <th>st_id</th>\n",
       "      <th>pr_sku_id</th>\n",
       "      <th>date</th>\n",
       "      <th>pr_sales_type_id</th>\n",
       "      <th>pr_sales_in_units</th>\n",
       "      <th>pr_promo_sales_in_units</th>\n",
       "      <th>pr_sales_in_rub</th>\n",
       "      <th>pr_promo_sales_in_rub</th>\n",
       "    </tr>\n",
       "  </thead>\n",
       "  <tbody>\n",
       "    <tr>\n",
       "      <th>730557</th>\n",
       "      <td>42a0e188f5033bc65bf8d78622277c4e</td>\n",
       "      <td>54cc81ad9eadc5ccde13e001ddfa3eb1</td>\n",
       "      <td>2022-10-22</td>\n",
       "      <td>1</td>\n",
       "      <td>7.0</td>\n",
       "      <td>7.0</td>\n",
       "      <td>1880.0</td>\n",
       "      <td>1880.0</td>\n",
       "    </tr>\n",
       "  </tbody>\n",
       "</table>\n",
       "</div>"
      ],
      "text/plain": [
       "                                   st_id                         pr_sku_id  \\\n",
       "730557  42a0e188f5033bc65bf8d78622277c4e  54cc81ad9eadc5ccde13e001ddfa3eb1   \n",
       "\n",
       "              date  pr_sales_type_id  pr_sales_in_units  \\\n",
       "730557  2022-10-22                 1                7.0   \n",
       "\n",
       "        pr_promo_sales_in_units  pr_sales_in_rub  pr_promo_sales_in_rub  \n",
       "730557                      7.0           1880.0                 1880.0  "
      ]
     },
     "metadata": {},
     "output_type": "display_data"
    },
    {
     "name": "stdout",
     "output_type": "stream",
     "text": [
      "<class 'pandas.core.frame.DataFrame'>\n",
      "RangeIndex: 883015 entries, 0 to 883014\n",
      "Data columns (total 8 columns):\n",
      " #   Column                   Non-Null Count   Dtype  \n",
      "---  ------                   --------------   -----  \n",
      " 0   st_id                    883015 non-null  object \n",
      " 1   pr_sku_id                883015 non-null  object \n",
      " 2   date                     883015 non-null  object \n",
      " 3   pr_sales_type_id         883015 non-null  int64  \n",
      " 4   pr_sales_in_units        883015 non-null  float64\n",
      " 5   pr_promo_sales_in_units  883015 non-null  float64\n",
      " 6   pr_sales_in_rub          883015 non-null  float64\n",
      " 7   pr_promo_sales_in_rub    883015 non-null  float64\n",
      "dtypes: float64(4), int64(1), object(3)\n",
      "memory usage: 53.9+ MB\n"
     ]
    }
   ],
   "source": [
    "display(pr_df.sample())\n",
    "pr_df.info()\n",
    "display(pr_st.sample())\n",
    "pr_st.info()\n",
    "display(sales_df.sample())\n",
    "sales_df.info()"
   ]
  },
  {
   "cell_type": "markdown",
   "id": "a7effbfb-62a4-453f-9c79-7ee0a614edd9",
   "metadata": {},
   "source": [
    "## Предобработка данных"
   ]
  },
  {
   "cell_type": "markdown",
   "id": "dff3914a-718b-4cb6-812c-51c847d6eaa3",
   "metadata": {},
   "source": [
    "#### Объединение датафреймов"
   ]
  },
  {
   "cell_type": "code",
   "execution_count": 5,
   "id": "f55fd342-68ab-4a20-9892-5ef8eab08054",
   "metadata": {},
   "outputs": [
    {
     "data": {
      "text/html": [
       "<div>\n",
       "<style scoped>\n",
       "    .dataframe tbody tr th:only-of-type {\n",
       "        vertical-align: middle;\n",
       "    }\n",
       "\n",
       "    .dataframe tbody tr th {\n",
       "        vertical-align: top;\n",
       "    }\n",
       "\n",
       "    .dataframe thead th {\n",
       "        text-align: right;\n",
       "    }\n",
       "</style>\n",
       "<table border=\"1\" class=\"dataframe\">\n",
       "  <thead>\n",
       "    <tr style=\"text-align: right;\">\n",
       "      <th></th>\n",
       "      <th>st_id</th>\n",
       "      <th>pr_sku_id</th>\n",
       "      <th>date</th>\n",
       "      <th>pr_sales_type_id</th>\n",
       "      <th>pr_sales_in_units</th>\n",
       "      <th>pr_promo_sales_in_units</th>\n",
       "      <th>pr_sales_in_rub</th>\n",
       "      <th>pr_promo_sales_in_rub</th>\n",
       "      <th>st_city_id</th>\n",
       "      <th>st_division_code</th>\n",
       "      <th>st_type_format_id</th>\n",
       "      <th>st_type_loc_id</th>\n",
       "      <th>st_type_size_id</th>\n",
       "      <th>st_is_active</th>\n",
       "      <th>pr_group_id</th>\n",
       "      <th>pr_cat_id</th>\n",
       "      <th>pr_subcat_id</th>\n",
       "      <th>pr_uom_id</th>\n",
       "    </tr>\n",
       "  </thead>\n",
       "  <tbody>\n",
       "    <tr>\n",
       "      <th>782774</th>\n",
       "      <td>16a5cdae362b8d27a1d8f8c7b78b4330</td>\n",
       "      <td>b70e1c1b2c51536fc4744389223a5e9a</td>\n",
       "      <td>2022-09-29</td>\n",
       "      <td>0</td>\n",
       "      <td>4.0</td>\n",
       "      <td>0.0</td>\n",
       "      <td>599.0</td>\n",
       "      <td>0.0</td>\n",
       "      <td>c1f75cc0f7fe269dd0fd9bd5e24f9586</td>\n",
       "      <td>296bd0cc6e735f9d7488ebc8fbc19130</td>\n",
       "      <td>1</td>\n",
       "      <td>2</td>\n",
       "      <td>8</td>\n",
       "      <td>1</td>\n",
       "      <td>aab3238922bcc25a6f606eb525ffdc56</td>\n",
       "      <td>3de2334a314a7a72721f1f74a6cb4cee</td>\n",
       "      <td>0f3abfd67959c079e7b3759440e7415c</td>\n",
       "      <td>17</td>\n",
       "    </tr>\n",
       "  </tbody>\n",
       "</table>\n",
       "</div>"
      ],
      "text/plain": [
       "                                   st_id                         pr_sku_id  \\\n",
       "782774  16a5cdae362b8d27a1d8f8c7b78b4330  b70e1c1b2c51536fc4744389223a5e9a   \n",
       "\n",
       "              date  pr_sales_type_id  pr_sales_in_units  \\\n",
       "782774  2022-09-29                 0                4.0   \n",
       "\n",
       "        pr_promo_sales_in_units  pr_sales_in_rub  pr_promo_sales_in_rub  \\\n",
       "782774                      0.0            599.0                    0.0   \n",
       "\n",
       "                              st_city_id                  st_division_code  \\\n",
       "782774  c1f75cc0f7fe269dd0fd9bd5e24f9586  296bd0cc6e735f9d7488ebc8fbc19130   \n",
       "\n",
       "        st_type_format_id  st_type_loc_id  st_type_size_id  st_is_active  \\\n",
       "782774                  1               2                8             1   \n",
       "\n",
       "                             pr_group_id                         pr_cat_id  \\\n",
       "782774  aab3238922bcc25a6f606eb525ffdc56  3de2334a314a7a72721f1f74a6cb4cee   \n",
       "\n",
       "                            pr_subcat_id  pr_uom_id  \n",
       "782774  0f3abfd67959c079e7b3759440e7415c         17  "
      ]
     },
     "metadata": {},
     "output_type": "display_data"
    },
    {
     "name": "stdout",
     "output_type": "stream",
     "text": [
      "<class 'pandas.core.frame.DataFrame'>\n",
      "RangeIndex: 883015 entries, 0 to 883014\n",
      "Data columns (total 18 columns):\n",
      " #   Column                   Non-Null Count   Dtype  \n",
      "---  ------                   --------------   -----  \n",
      " 0   st_id                    883015 non-null  object \n",
      " 1   pr_sku_id                883015 non-null  object \n",
      " 2   date                     883015 non-null  object \n",
      " 3   pr_sales_type_id         883015 non-null  int64  \n",
      " 4   pr_sales_in_units        883015 non-null  float64\n",
      " 5   pr_promo_sales_in_units  883015 non-null  float64\n",
      " 6   pr_sales_in_rub          883015 non-null  float64\n",
      " 7   pr_promo_sales_in_rub    883015 non-null  float64\n",
      " 8   st_city_id               883015 non-null  object \n",
      " 9   st_division_code         883015 non-null  object \n",
      " 10  st_type_format_id        883015 non-null  int64  \n",
      " 11  st_type_loc_id           883015 non-null  int64  \n",
      " 12  st_type_size_id          883015 non-null  int64  \n",
      " 13  st_is_active             883015 non-null  int64  \n",
      " 14  pr_group_id              883015 non-null  object \n",
      " 15  pr_cat_id                883015 non-null  object \n",
      " 16  pr_subcat_id             883015 non-null  object \n",
      " 17  pr_uom_id                883015 non-null  int64  \n",
      "dtypes: float64(4), int64(6), object(8)\n",
      "memory usage: 121.3+ MB\n"
     ]
    }
   ],
   "source": [
    "common_df = sales_df.merge(pr_st, on='st_id', how='left').merge(pr_df, on='pr_sku_id', how='left')\n",
    "display(common_df.sample())\n",
    "common_df.info()"
   ]
  },
  {
   "cell_type": "markdown",
   "id": "5e43d5b9-38fb-4f70-8b7d-e0fe0f03b517",
   "metadata": {},
   "source": [
    "#### Проверка нулевых значений в количестве"
   ]
  },
  {
   "cell_type": "code",
   "execution_count": 6,
   "id": "77fb2cae-4f3a-4df5-a756-7560d7d27401",
   "metadata": {},
   "outputs": [
    {
     "name": "stdout",
     "output_type": "stream",
     "text": [
      "нулевые продажи в шт и руб: 454 \n",
      "их доля в данных: 0.05 %\n",
      "нулевые продажи в шт, но не нулевые в рублях: 66089 \n",
      "их доля в данных: 7.48 %\n"
     ]
    },
    {
     "data": {
      "text/html": [
       "<div>\n",
       "<style scoped>\n",
       "    .dataframe tbody tr th:only-of-type {\n",
       "        vertical-align: middle;\n",
       "    }\n",
       "\n",
       "    .dataframe tbody tr th {\n",
       "        vertical-align: top;\n",
       "    }\n",
       "\n",
       "    .dataframe thead th {\n",
       "        text-align: right;\n",
       "    }\n",
       "</style>\n",
       "<table border=\"1\" class=\"dataframe\">\n",
       "  <thead>\n",
       "    <tr style=\"text-align: right;\">\n",
       "      <th></th>\n",
       "      <th>st_id</th>\n",
       "      <th>pr_sku_id</th>\n",
       "      <th>date</th>\n",
       "      <th>pr_sales_type_id</th>\n",
       "      <th>pr_sales_in_units</th>\n",
       "      <th>pr_promo_sales_in_units</th>\n",
       "      <th>pr_sales_in_rub</th>\n",
       "      <th>pr_promo_sales_in_rub</th>\n",
       "      <th>st_city_id</th>\n",
       "      <th>st_division_code</th>\n",
       "      <th>st_type_format_id</th>\n",
       "      <th>st_type_loc_id</th>\n",
       "      <th>st_type_size_id</th>\n",
       "      <th>st_is_active</th>\n",
       "      <th>pr_group_id</th>\n",
       "      <th>pr_cat_id</th>\n",
       "      <th>pr_subcat_id</th>\n",
       "      <th>pr_uom_id</th>\n",
       "    </tr>\n",
       "  </thead>\n",
       "  <tbody>\n",
       "    <tr>\n",
       "      <th>3</th>\n",
       "      <td>42a0e188f5033bc65bf8d78622277c4e</td>\n",
       "      <td>8e887cf8e64ab8e7173701a979476567</td>\n",
       "      <td>2023-04-05</td>\n",
       "      <td>1</td>\n",
       "      <td>0.0</td>\n",
       "      <td>0.0</td>\n",
       "      <td>69.0</td>\n",
       "      <td>69.0</td>\n",
       "      <td>b8b4b727d6f5d1b61fff7be687f7970f</td>\n",
       "      <td>da742b3cfca5388aaf9af28a726a3c30</td>\n",
       "      <td>1</td>\n",
       "      <td>1</td>\n",
       "      <td>12</td>\n",
       "      <td>1</td>\n",
       "      <td>aab3238922bcc25a6f606eb525ffdc56</td>\n",
       "      <td>28fc2782ea7ef51c1104ccf7b9bea13d</td>\n",
       "      <td>a13b7a6b8e80d44d044c257a08ecccca</td>\n",
       "      <td>1</td>\n",
       "    </tr>\n",
       "    <tr>\n",
       "      <th>6</th>\n",
       "      <td>f7e6c85504ce6e82442c770f7c8606f0</td>\n",
       "      <td>b75c7cbf7accdaea8a1a14781bb29870</td>\n",
       "      <td>2023-02-15</td>\n",
       "      <td>0</td>\n",
       "      <td>0.0</td>\n",
       "      <td>0.0</td>\n",
       "      <td>171.0</td>\n",
       "      <td>0.0</td>\n",
       "      <td>3202111cf90e7c816a472aaceb72b0df</td>\n",
       "      <td>32586311f16876abf92901085bd87b99</td>\n",
       "      <td>1</td>\n",
       "      <td>1</td>\n",
       "      <td>12</td>\n",
       "      <td>1</td>\n",
       "      <td>aab3238922bcc25a6f606eb525ffdc56</td>\n",
       "      <td>28fc2782ea7ef51c1104ccf7b9bea13d</td>\n",
       "      <td>d29b5ce9c2883f0b7e90f79071a2ca82</td>\n",
       "      <td>1</td>\n",
       "    </tr>\n",
       "    <tr>\n",
       "      <th>27</th>\n",
       "      <td>42a0e188f5033bc65bf8d78622277c4e</td>\n",
       "      <td>cfb54b1ce12bb3f9b6b9e2ea0b57414b</td>\n",
       "      <td>2022-11-10</td>\n",
       "      <td>0</td>\n",
       "      <td>0.0</td>\n",
       "      <td>0.0</td>\n",
       "      <td>91.0</td>\n",
       "      <td>0.0</td>\n",
       "      <td>b8b4b727d6f5d1b61fff7be687f7970f</td>\n",
       "      <td>da742b3cfca5388aaf9af28a726a3c30</td>\n",
       "      <td>1</td>\n",
       "      <td>1</td>\n",
       "      <td>12</td>\n",
       "      <td>1</td>\n",
       "      <td>c74d97b01eae257e44aa9d5bade97baf</td>\n",
       "      <td>1bc0249a6412ef49b07fe6f62e6dc8de</td>\n",
       "      <td>68f204f3838bfee4ada868b66e6a0814</td>\n",
       "      <td>1</td>\n",
       "    </tr>\n",
       "    <tr>\n",
       "      <th>28</th>\n",
       "      <td>f7e6c85504ce6e82442c770f7c8606f0</td>\n",
       "      <td>88d7313785c97631bf3df61e70636491</td>\n",
       "      <td>2022-11-30</td>\n",
       "      <td>0</td>\n",
       "      <td>0.0</td>\n",
       "      <td>0.0</td>\n",
       "      <td>79.0</td>\n",
       "      <td>0.0</td>\n",
       "      <td>3202111cf90e7c816a472aaceb72b0df</td>\n",
       "      <td>32586311f16876abf92901085bd87b99</td>\n",
       "      <td>1</td>\n",
       "      <td>1</td>\n",
       "      <td>12</td>\n",
       "      <td>1</td>\n",
       "      <td>aab3238922bcc25a6f606eb525ffdc56</td>\n",
       "      <td>9701a1c165dd9420816bfec5edd6c2b1</td>\n",
       "      <td>567115097ac405a46a84ef641c2d7069</td>\n",
       "      <td>1</td>\n",
       "    </tr>\n",
       "    <tr>\n",
       "      <th>32</th>\n",
       "      <td>fa7cdfad1a5aaf8370ebeda47a1ff1c3</td>\n",
       "      <td>b610088ddf586449793d3c6da70d4c56</td>\n",
       "      <td>2023-02-26</td>\n",
       "      <td>0</td>\n",
       "      <td>0.0</td>\n",
       "      <td>0.0</td>\n",
       "      <td>83.0</td>\n",
       "      <td>0.0</td>\n",
       "      <td>885fe656777008c335ac96072a45be15</td>\n",
       "      <td>296bd0cc6e735f9d7488ebc8fbc19130</td>\n",
       "      <td>1</td>\n",
       "      <td>1</td>\n",
       "      <td>12</td>\n",
       "      <td>1</td>\n",
       "      <td>c74d97b01eae257e44aa9d5bade97baf</td>\n",
       "      <td>f3173935ed8ac4bf073c1bcd63171f8a</td>\n",
       "      <td>5fd72b9fc7118bd36a137d7cea8c588a</td>\n",
       "      <td>1</td>\n",
       "    </tr>\n",
       "  </tbody>\n",
       "</table>\n",
       "</div>"
      ],
      "text/plain": [
       "                               st_id                         pr_sku_id  \\\n",
       "3   42a0e188f5033bc65bf8d78622277c4e  8e887cf8e64ab8e7173701a979476567   \n",
       "6   f7e6c85504ce6e82442c770f7c8606f0  b75c7cbf7accdaea8a1a14781bb29870   \n",
       "27  42a0e188f5033bc65bf8d78622277c4e  cfb54b1ce12bb3f9b6b9e2ea0b57414b   \n",
       "28  f7e6c85504ce6e82442c770f7c8606f0  88d7313785c97631bf3df61e70636491   \n",
       "32  fa7cdfad1a5aaf8370ebeda47a1ff1c3  b610088ddf586449793d3c6da70d4c56   \n",
       "\n",
       "          date  pr_sales_type_id  pr_sales_in_units  pr_promo_sales_in_units  \\\n",
       "3   2023-04-05                 1                0.0                      0.0   \n",
       "6   2023-02-15                 0                0.0                      0.0   \n",
       "27  2022-11-10                 0                0.0                      0.0   \n",
       "28  2022-11-30                 0                0.0                      0.0   \n",
       "32  2023-02-26                 0                0.0                      0.0   \n",
       "\n",
       "    pr_sales_in_rub  pr_promo_sales_in_rub                        st_city_id  \\\n",
       "3              69.0                   69.0  b8b4b727d6f5d1b61fff7be687f7970f   \n",
       "6             171.0                    0.0  3202111cf90e7c816a472aaceb72b0df   \n",
       "27             91.0                    0.0  b8b4b727d6f5d1b61fff7be687f7970f   \n",
       "28             79.0                    0.0  3202111cf90e7c816a472aaceb72b0df   \n",
       "32             83.0                    0.0  885fe656777008c335ac96072a45be15   \n",
       "\n",
       "                    st_division_code  st_type_format_id  st_type_loc_id  \\\n",
       "3   da742b3cfca5388aaf9af28a726a3c30                  1               1   \n",
       "6   32586311f16876abf92901085bd87b99                  1               1   \n",
       "27  da742b3cfca5388aaf9af28a726a3c30                  1               1   \n",
       "28  32586311f16876abf92901085bd87b99                  1               1   \n",
       "32  296bd0cc6e735f9d7488ebc8fbc19130                  1               1   \n",
       "\n",
       "    st_type_size_id  st_is_active                       pr_group_id  \\\n",
       "3                12             1  aab3238922bcc25a6f606eb525ffdc56   \n",
       "6                12             1  aab3238922bcc25a6f606eb525ffdc56   \n",
       "27               12             1  c74d97b01eae257e44aa9d5bade97baf   \n",
       "28               12             1  aab3238922bcc25a6f606eb525ffdc56   \n",
       "32               12             1  c74d97b01eae257e44aa9d5bade97baf   \n",
       "\n",
       "                           pr_cat_id                      pr_subcat_id  \\\n",
       "3   28fc2782ea7ef51c1104ccf7b9bea13d  a13b7a6b8e80d44d044c257a08ecccca   \n",
       "6   28fc2782ea7ef51c1104ccf7b9bea13d  d29b5ce9c2883f0b7e90f79071a2ca82   \n",
       "27  1bc0249a6412ef49b07fe6f62e6dc8de  68f204f3838bfee4ada868b66e6a0814   \n",
       "28  9701a1c165dd9420816bfec5edd6c2b1  567115097ac405a46a84ef641c2d7069   \n",
       "32  f3173935ed8ac4bf073c1bcd63171f8a  5fd72b9fc7118bd36a137d7cea8c588a   \n",
       "\n",
       "    pr_uom_id  \n",
       "3           1  \n",
       "6           1  \n",
       "27          1  \n",
       "28          1  \n",
       "32          1  "
      ]
     },
     "execution_count": 6,
     "metadata": {},
     "output_type": "execute_result"
    }
   ],
   "source": [
    "sales_units_zero = common_df[common_df['pr_sales_in_units'] == 0]\n",
    "print(\n",
    "    'нулевые продажи в шт и руб:', \n",
    "    sales_units_zero[sales_units_zero['pr_sales_in_rub'] == 0]['pr_sales_in_rub'].count(), \n",
    "    '\\nих доля в данных:', \n",
    "    round(sales_units_zero[sales_units_zero['pr_sales_in_rub'] == 0]['pr_sales_in_rub'].count() / common_df['pr_sales_in_rub'].count() * 100, 2), '%'\n",
    ")\n",
    "print(\n",
    "    'нулевые продажи в шт, но не нулевые в рублях:', \n",
    "    sales_units_zero[sales_units_zero['pr_sales_in_rub'] != 0]['pr_sales_in_rub'].count(), \n",
    "    '\\nих доля в данных:', \n",
    "    round(sales_units_zero[sales_units_zero['pr_sales_in_rub'] != 0]['pr_sales_in_rub'].count() / common_df['pr_sales_in_rub'].count() * 100, 2), '%'\n",
    ")\n",
    "sales_units_zero[sales_units_zero['pr_sales_in_rub'] != 0].head()"
   ]
  },
  {
   "cell_type": "markdown",
   "id": "d9d79393-418b-4762-a064-9bfe8a400cfa",
   "metadata": {},
   "source": [
    "**Вывод:** \n",
    "- в данных имеются записи, которые можно удалить (их доля 0.05%): нулевые значения в количестве проданных товаров и их стоимости\n",
    "- записи, по которым требуется уточнение в бизнесе (их доля 7.48%): нулевые значения в количестве проданных товаров и ненулевые в их стоимости."
   ]
  },
  {
   "cell_type": "markdown",
   "id": "82325f74-9bc0-4d98-a080-19c9e363a852",
   "metadata": {},
   "source": [
    "#### Удаление данных с нулями в количестве"
   ]
  },
  {
   "cell_type": "code",
   "execution_count": 7,
   "id": "ce80b6b2-c6b0-46a0-9f54-1d0366a8df95",
   "metadata": {},
   "outputs": [
    {
     "name": "stdout",
     "output_type": "stream",
     "text": [
      "<class 'pandas.core.frame.DataFrame'>\n",
      "Index: 816472 entries, 0 to 883014\n",
      "Data columns (total 18 columns):\n",
      " #   Column                   Non-Null Count   Dtype  \n",
      "---  ------                   --------------   -----  \n",
      " 0   st_id                    816472 non-null  object \n",
      " 1   pr_sku_id                816472 non-null  object \n",
      " 2   date                     816472 non-null  object \n",
      " 3   pr_sales_type_id         816472 non-null  int64  \n",
      " 4   pr_sales_in_units        816472 non-null  float64\n",
      " 5   pr_promo_sales_in_units  816472 non-null  float64\n",
      " 6   pr_sales_in_rub          816472 non-null  float64\n",
      " 7   pr_promo_sales_in_rub    816472 non-null  float64\n",
      " 8   st_city_id               816472 non-null  object \n",
      " 9   st_division_code         816472 non-null  object \n",
      " 10  st_type_format_id        816472 non-null  int64  \n",
      " 11  st_type_loc_id           816472 non-null  int64  \n",
      " 12  st_type_size_id          816472 non-null  int64  \n",
      " 13  st_is_active             816472 non-null  int64  \n",
      " 14  pr_group_id              816472 non-null  object \n",
      " 15  pr_cat_id                816472 non-null  object \n",
      " 16  pr_subcat_id             816472 non-null  object \n",
      " 17  pr_uom_id                816472 non-null  int64  \n",
      "dtypes: float64(4), int64(6), object(8)\n",
      "memory usage: 118.4+ MB\n"
     ]
    },
    {
     "data": {
      "text/html": [
       "<div>\n",
       "<style scoped>\n",
       "    .dataframe tbody tr th:only-of-type {\n",
       "        vertical-align: middle;\n",
       "    }\n",
       "\n",
       "    .dataframe tbody tr th {\n",
       "        vertical-align: top;\n",
       "    }\n",
       "\n",
       "    .dataframe thead th {\n",
       "        text-align: right;\n",
       "    }\n",
       "</style>\n",
       "<table border=\"1\" class=\"dataframe\">\n",
       "  <thead>\n",
       "    <tr style=\"text-align: right;\">\n",
       "      <th></th>\n",
       "      <th>st_id</th>\n",
       "      <th>pr_sku_id</th>\n",
       "      <th>date</th>\n",
       "      <th>pr_sales_type_id</th>\n",
       "      <th>pr_sales_in_units</th>\n",
       "      <th>pr_promo_sales_in_units</th>\n",
       "      <th>pr_sales_in_rub</th>\n",
       "      <th>pr_promo_sales_in_rub</th>\n",
       "      <th>st_city_id</th>\n",
       "      <th>st_division_code</th>\n",
       "      <th>st_type_format_id</th>\n",
       "      <th>st_type_loc_id</th>\n",
       "      <th>st_type_size_id</th>\n",
       "      <th>st_is_active</th>\n",
       "      <th>pr_group_id</th>\n",
       "      <th>pr_cat_id</th>\n",
       "      <th>pr_subcat_id</th>\n",
       "      <th>pr_uom_id</th>\n",
       "    </tr>\n",
       "  </thead>\n",
       "  <tbody>\n",
       "    <tr>\n",
       "      <th>777224</th>\n",
       "      <td>16a5cdae362b8d27a1d8f8c7b78b4330</td>\n",
       "      <td>eb341a778d385ad6ebe16e90efb48c08</td>\n",
       "      <td>2022-09-26</td>\n",
       "      <td>1</td>\n",
       "      <td>4.0</td>\n",
       "      <td>4.0</td>\n",
       "      <td>823.0</td>\n",
       "      <td>823.0</td>\n",
       "      <td>c1f75cc0f7fe269dd0fd9bd5e24f9586</td>\n",
       "      <td>296bd0cc6e735f9d7488ebc8fbc19130</td>\n",
       "      <td>1</td>\n",
       "      <td>2</td>\n",
       "      <td>8</td>\n",
       "      <td>1</td>\n",
       "      <td>aab3238922bcc25a6f606eb525ffdc56</td>\n",
       "      <td>28fc2782ea7ef51c1104ccf7b9bea13d</td>\n",
       "      <td>b3e70d072fc648f6934c288e44f5c35e</td>\n",
       "      <td>1</td>\n",
       "    </tr>\n",
       "  </tbody>\n",
       "</table>\n",
       "</div>"
      ],
      "text/plain": [
       "                                   st_id                         pr_sku_id  \\\n",
       "777224  16a5cdae362b8d27a1d8f8c7b78b4330  eb341a778d385ad6ebe16e90efb48c08   \n",
       "\n",
       "              date  pr_sales_type_id  pr_sales_in_units  \\\n",
       "777224  2022-09-26                 1                4.0   \n",
       "\n",
       "        pr_promo_sales_in_units  pr_sales_in_rub  pr_promo_sales_in_rub  \\\n",
       "777224                      4.0            823.0                  823.0   \n",
       "\n",
       "                              st_city_id                  st_division_code  \\\n",
       "777224  c1f75cc0f7fe269dd0fd9bd5e24f9586  296bd0cc6e735f9d7488ebc8fbc19130   \n",
       "\n",
       "        st_type_format_id  st_type_loc_id  st_type_size_id  st_is_active  \\\n",
       "777224                  1               2                8             1   \n",
       "\n",
       "                             pr_group_id                         pr_cat_id  \\\n",
       "777224  aab3238922bcc25a6f606eb525ffdc56  28fc2782ea7ef51c1104ccf7b9bea13d   \n",
       "\n",
       "                            pr_subcat_id  pr_uom_id  \n",
       "777224  b3e70d072fc648f6934c288e44f5c35e          1  "
      ]
     },
     "execution_count": 7,
     "metadata": {},
     "output_type": "execute_result"
    }
   ],
   "source": [
    "common_df = common_df.loc[common_df['pr_sales_in_units'] != 0]\n",
    "common_df.info()\n",
    "common_df.sample()"
   ]
  },
  {
   "cell_type": "markdown",
   "id": "3e79c104-e75a-4507-be26-843b34a70fbb",
   "metadata": {},
   "source": [
    "#### Количество активных магазинов"
   ]
  },
  {
   "cell_type": "code",
   "execution_count": 8,
   "id": "da05619a-810c-4e1c-8ef9-e1c8f73c5a6f",
   "metadata": {},
   "outputs": [
    {
     "name": "stdout",
     "output_type": "stream",
     "text": [
      "количество магазинов без маркера активности: 2 \n",
      "их доля в общем количестве магазинов: 0.17\n"
     ]
    }
   ],
   "source": [
    "print('количество магазинов без маркера активности:', \n",
    "      pr_st[pr_st['st_is_active'] == 0]['st_id'].count(), \n",
    "      '\\nих доля в общем количестве магазинов:', \n",
    "      round(pr_st[pr_st['st_is_active'] == 0]['st_id'].count() / pr_st['st_id'].count(), 2)\n",
    "     )"
   ]
  },
  {
   "cell_type": "markdown",
   "id": "5eb77af2-e89a-4926-850c-eb01ec6a4870",
   "metadata": {},
   "source": [
    "#### Количество данных по неактивным магазинам"
   ]
  },
  {
   "cell_type": "code",
   "execution_count": 9,
   "id": "4327189f-3823-420b-a70d-bbd0fdd121c2",
   "metadata": {},
   "outputs": [
    {
     "name": "stdout",
     "output_type": "stream",
     "text": [
      "количество записей по неактивным магазинам: 728 \n",
      "их доля в данных: 0.09 %\n"
     ]
    }
   ],
   "source": [
    "unactive_store_sales = common_df[common_df['st_is_active'] == 0]\n",
    "print(\n",
    "    'количество записей по неактивным магазинам:', \n",
    "    unactive_store_sales['pr_sales_in_rub'].count(), \n",
    "    '\\nих доля в данных:', \n",
    "    round(unactive_store_sales['pr_sales_in_rub'].count() / common_df['pr_sales_in_rub'].count() * 100, 2), '%'\n",
    ")"
   ]
  },
  {
   "cell_type": "markdown",
   "id": "5ffb0132-d761-447a-9094-4b99edf13b69",
   "metadata": {},
   "source": [
    "**Вывод:** в данных найдены магазины без маркера активности. Возможно, их можно удалить, требуется уточнение у бизнеса."
   ]
  },
  {
   "cell_type": "markdown",
   "id": "051f496a-3733-4561-a128-75d68bf78e4e",
   "metadata": {},
   "source": [
    "#### Удаление данных по неактивным магазинам"
   ]
  },
  {
   "cell_type": "code",
   "execution_count": 10,
   "id": "f180f3c8-3a59-4a55-9670-2c97ad63c0a5",
   "metadata": {},
   "outputs": [
    {
     "data": {
      "text/html": [
       "<div>\n",
       "<style scoped>\n",
       "    .dataframe tbody tr th:only-of-type {\n",
       "        vertical-align: middle;\n",
       "    }\n",
       "\n",
       "    .dataframe tbody tr th {\n",
       "        vertical-align: top;\n",
       "    }\n",
       "\n",
       "    .dataframe thead th {\n",
       "        text-align: right;\n",
       "    }\n",
       "</style>\n",
       "<table border=\"1\" class=\"dataframe\">\n",
       "  <thead>\n",
       "    <tr style=\"text-align: right;\">\n",
       "      <th></th>\n",
       "      <th>st_id</th>\n",
       "      <th>pr_sku_id</th>\n",
       "      <th>date</th>\n",
       "      <th>pr_sales_type_id</th>\n",
       "      <th>pr_sales_in_units</th>\n",
       "      <th>pr_promo_sales_in_units</th>\n",
       "      <th>pr_sales_in_rub</th>\n",
       "      <th>pr_promo_sales_in_rub</th>\n",
       "      <th>st_city_id</th>\n",
       "      <th>st_division_code</th>\n",
       "      <th>st_type_format_id</th>\n",
       "      <th>st_type_loc_id</th>\n",
       "      <th>st_type_size_id</th>\n",
       "      <th>st_is_active</th>\n",
       "      <th>pr_group_id</th>\n",
       "      <th>pr_cat_id</th>\n",
       "      <th>pr_subcat_id</th>\n",
       "      <th>pr_uom_id</th>\n",
       "    </tr>\n",
       "  </thead>\n",
       "  <tbody>\n",
       "    <tr>\n",
       "      <th>138358</th>\n",
       "      <td>c81e728d9d4c2f636f067f89cc14862c</td>\n",
       "      <td>eb341a778d385ad6ebe16e90efb48c08</td>\n",
       "      <td>2022-08-08</td>\n",
       "      <td>0</td>\n",
       "      <td>12.0</td>\n",
       "      <td>0.0</td>\n",
       "      <td>3464.0</td>\n",
       "      <td>0.0</td>\n",
       "      <td>908c9a564a86426585b29f5335b619bc</td>\n",
       "      <td>429a86ff6336c144ddaf6144f52ab52c</td>\n",
       "      <td>1</td>\n",
       "      <td>1</td>\n",
       "      <td>8</td>\n",
       "      <td>1</td>\n",
       "      <td>aab3238922bcc25a6f606eb525ffdc56</td>\n",
       "      <td>28fc2782ea7ef51c1104ccf7b9bea13d</td>\n",
       "      <td>b3e70d072fc648f6934c288e44f5c35e</td>\n",
       "      <td>1</td>\n",
       "    </tr>\n",
       "  </tbody>\n",
       "</table>\n",
       "</div>"
      ],
      "text/plain": [
       "                                   st_id                         pr_sku_id  \\\n",
       "138358  c81e728d9d4c2f636f067f89cc14862c  eb341a778d385ad6ebe16e90efb48c08   \n",
       "\n",
       "              date  pr_sales_type_id  pr_sales_in_units  \\\n",
       "138358  2022-08-08                 0               12.0   \n",
       "\n",
       "        pr_promo_sales_in_units  pr_sales_in_rub  pr_promo_sales_in_rub  \\\n",
       "138358                      0.0           3464.0                    0.0   \n",
       "\n",
       "                              st_city_id                  st_division_code  \\\n",
       "138358  908c9a564a86426585b29f5335b619bc  429a86ff6336c144ddaf6144f52ab52c   \n",
       "\n",
       "        st_type_format_id  st_type_loc_id  st_type_size_id  st_is_active  \\\n",
       "138358                  1               1                8             1   \n",
       "\n",
       "                             pr_group_id                         pr_cat_id  \\\n",
       "138358  aab3238922bcc25a6f606eb525ffdc56  28fc2782ea7ef51c1104ccf7b9bea13d   \n",
       "\n",
       "                            pr_subcat_id  pr_uom_id  \n",
       "138358  b3e70d072fc648f6934c288e44f5c35e          1  "
      ]
     },
     "metadata": {},
     "output_type": "display_data"
    },
    {
     "name": "stdout",
     "output_type": "stream",
     "text": [
      "<class 'pandas.core.frame.DataFrame'>\n",
      "Index: 815744 entries, 0 to 883014\n",
      "Data columns (total 18 columns):\n",
      " #   Column                   Non-Null Count   Dtype  \n",
      "---  ------                   --------------   -----  \n",
      " 0   st_id                    815744 non-null  object \n",
      " 1   pr_sku_id                815744 non-null  object \n",
      " 2   date                     815744 non-null  object \n",
      " 3   pr_sales_type_id         815744 non-null  int64  \n",
      " 4   pr_sales_in_units        815744 non-null  float64\n",
      " 5   pr_promo_sales_in_units  815744 non-null  float64\n",
      " 6   pr_sales_in_rub          815744 non-null  float64\n",
      " 7   pr_promo_sales_in_rub    815744 non-null  float64\n",
      " 8   st_city_id               815744 non-null  object \n",
      " 9   st_division_code         815744 non-null  object \n",
      " 10  st_type_format_id        815744 non-null  int64  \n",
      " 11  st_type_loc_id           815744 non-null  int64  \n",
      " 12  st_type_size_id          815744 non-null  int64  \n",
      " 13  st_is_active             815744 non-null  int64  \n",
      " 14  pr_group_id              815744 non-null  object \n",
      " 15  pr_cat_id                815744 non-null  object \n",
      " 16  pr_subcat_id             815744 non-null  object \n",
      " 17  pr_uom_id                815744 non-null  int64  \n",
      "dtypes: float64(4), int64(6), object(8)\n",
      "memory usage: 118.2+ MB\n"
     ]
    }
   ],
   "source": [
    "common_df = common_df.loc[~common_df['st_id'].isin(list(pr_st[pr_st['st_is_active'] == 0]['st_id']))]\n",
    "display(common_df.sample())\n",
    "common_df.info()"
   ]
  },
  {
   "cell_type": "markdown",
   "id": "97659ef5-c29c-4770-b3e3-ed50cd960f4b",
   "metadata": {},
   "source": [
    "#### Изменение формата в поле с датами"
   ]
  },
  {
   "cell_type": "code",
   "execution_count": 11,
   "id": "d85a570a-98d0-4cce-8aed-e701114cdad2",
   "metadata": {},
   "outputs": [
    {
     "data": {
      "text/html": [
       "<div>\n",
       "<style scoped>\n",
       "    .dataframe tbody tr th:only-of-type {\n",
       "        vertical-align: middle;\n",
       "    }\n",
       "\n",
       "    .dataframe tbody tr th {\n",
       "        vertical-align: top;\n",
       "    }\n",
       "\n",
       "    .dataframe thead th {\n",
       "        text-align: right;\n",
       "    }\n",
       "</style>\n",
       "<table border=\"1\" class=\"dataframe\">\n",
       "  <thead>\n",
       "    <tr style=\"text-align: right;\">\n",
       "      <th></th>\n",
       "      <th>st_id</th>\n",
       "      <th>pr_sku_id</th>\n",
       "      <th>date</th>\n",
       "      <th>pr_sales_type_id</th>\n",
       "      <th>pr_sales_in_units</th>\n",
       "      <th>pr_promo_sales_in_units</th>\n",
       "      <th>pr_sales_in_rub</th>\n",
       "      <th>pr_promo_sales_in_rub</th>\n",
       "      <th>st_city_id</th>\n",
       "      <th>st_division_code</th>\n",
       "      <th>st_type_format_id</th>\n",
       "      <th>st_type_loc_id</th>\n",
       "      <th>st_type_size_id</th>\n",
       "      <th>st_is_active</th>\n",
       "      <th>pr_group_id</th>\n",
       "      <th>pr_cat_id</th>\n",
       "      <th>pr_subcat_id</th>\n",
       "      <th>pr_uom_id</th>\n",
       "    </tr>\n",
       "  </thead>\n",
       "  <tbody>\n",
       "    <tr>\n",
       "      <th>400699</th>\n",
       "      <td>f7e6c85504ce6e82442c770f7c8606f0</td>\n",
       "      <td>f5a455e5fea834c85429331d934c40fa</td>\n",
       "      <td>2023-06-14</td>\n",
       "      <td>0</td>\n",
       "      <td>5.0</td>\n",
       "      <td>0.0</td>\n",
       "      <td>1107.0</td>\n",
       "      <td>0.0</td>\n",
       "      <td>3202111cf90e7c816a472aaceb72b0df</td>\n",
       "      <td>32586311f16876abf92901085bd87b99</td>\n",
       "      <td>1</td>\n",
       "      <td>1</td>\n",
       "      <td>12</td>\n",
       "      <td>1</td>\n",
       "      <td>aab3238922bcc25a6f606eb525ffdc56</td>\n",
       "      <td>46771d1f432b42343f56f791422a4991</td>\n",
       "      <td>38cc804f2e8d4b18785b84c68517eadf</td>\n",
       "      <td>1</td>\n",
       "    </tr>\n",
       "  </tbody>\n",
       "</table>\n",
       "</div>"
      ],
      "text/plain": [
       "                                   st_id                         pr_sku_id  \\\n",
       "400699  f7e6c85504ce6e82442c770f7c8606f0  f5a455e5fea834c85429331d934c40fa   \n",
       "\n",
       "             date  pr_sales_type_id  pr_sales_in_units  \\\n",
       "400699 2023-06-14                 0                5.0   \n",
       "\n",
       "        pr_promo_sales_in_units  pr_sales_in_rub  pr_promo_sales_in_rub  \\\n",
       "400699                      0.0           1107.0                    0.0   \n",
       "\n",
       "                              st_city_id                  st_division_code  \\\n",
       "400699  3202111cf90e7c816a472aaceb72b0df  32586311f16876abf92901085bd87b99   \n",
       "\n",
       "        st_type_format_id  st_type_loc_id  st_type_size_id  st_is_active  \\\n",
       "400699                  1               1               12             1   \n",
       "\n",
       "                             pr_group_id                         pr_cat_id  \\\n",
       "400699  aab3238922bcc25a6f606eb525ffdc56  46771d1f432b42343f56f791422a4991   \n",
       "\n",
       "                            pr_subcat_id  pr_uom_id  \n",
       "400699  38cc804f2e8d4b18785b84c68517eadf          1  "
      ]
     },
     "metadata": {},
     "output_type": "display_data"
    },
    {
     "name": "stdout",
     "output_type": "stream",
     "text": [
      "<class 'pandas.core.frame.DataFrame'>\n",
      "Index: 815744 entries, 0 to 883014\n",
      "Data columns (total 18 columns):\n",
      " #   Column                   Non-Null Count   Dtype         \n",
      "---  ------                   --------------   -----         \n",
      " 0   st_id                    815744 non-null  object        \n",
      " 1   pr_sku_id                815744 non-null  object        \n",
      " 2   date                     815744 non-null  datetime64[ns]\n",
      " 3   pr_sales_type_id         815744 non-null  int64         \n",
      " 4   pr_sales_in_units        815744 non-null  float64       \n",
      " 5   pr_promo_sales_in_units  815744 non-null  float64       \n",
      " 6   pr_sales_in_rub          815744 non-null  float64       \n",
      " 7   pr_promo_sales_in_rub    815744 non-null  float64       \n",
      " 8   st_city_id               815744 non-null  object        \n",
      " 9   st_division_code         815744 non-null  object        \n",
      " 10  st_type_format_id        815744 non-null  int64         \n",
      " 11  st_type_loc_id           815744 non-null  int64         \n",
      " 12  st_type_size_id          815744 non-null  int64         \n",
      " 13  st_is_active             815744 non-null  int64         \n",
      " 14  pr_group_id              815744 non-null  object        \n",
      " 15  pr_cat_id                815744 non-null  object        \n",
      " 16  pr_subcat_id             815744 non-null  object        \n",
      " 17  pr_uom_id                815744 non-null  int64         \n",
      "dtypes: datetime64[ns](1), float64(4), int64(6), object(7)\n",
      "memory usage: 118.2+ MB\n"
     ]
    }
   ],
   "source": [
    "common_df['date'] = pd.to_datetime(common_df['date'])\n",
    "display(common_df.sample())\n",
    "common_df.info()"
   ]
  },
  {
   "cell_type": "markdown",
   "id": "f013c750-163b-4cc8-be00-fc4574f03bf6",
   "metadata": {},
   "source": [
    "#### Сортировка в порядке возрастания"
   ]
  },
  {
   "cell_type": "code",
   "execution_count": 12,
   "id": "b0010126-bf98-478c-863c-f86ca1e29cc6",
   "metadata": {},
   "outputs": [],
   "source": [
    "common_df = common_df.sort_values(by='date', ignore_index=True)"
   ]
  },
  {
   "cell_type": "markdown",
   "id": "4c95926d-10a3-4e4e-8b52-0a9e8ae5b508",
   "metadata": {},
   "source": [
    "#### Анализ целевого признака"
   ]
  },
  {
   "cell_type": "markdown",
   "id": "744b3dfb-d215-4360-b165-a32ba2d511c2",
   "metadata": {},
   "source": [
    "Количество записей со значением целевого признака меньше нуля"
   ]
  },
  {
   "cell_type": "code",
   "execution_count": 13,
   "id": "ef4e52ac-e14c-4290-9973-7d31fb7c8f85",
   "metadata": {},
   "outputs": [
    {
     "name": "stdout",
     "output_type": "stream",
     "text": [
      "количество записей возвратов: 71 \n",
      "их доля в данных: 0.01 %\n"
     ]
    }
   ],
   "source": [
    "print(\n",
    "    'количество записей возвратов:', \n",
    "    common_df[common_df['pr_sales_in_units'] < 0]['pr_sales_in_units'].count(), \n",
    "    '\\nих доля в данных:', \n",
    "    round(common_df[common_df['pr_sales_in_units'] < 0]['pr_sales_in_units'].count() / common_df['pr_sales_in_units'].count() * 100, 2), '%'\n",
    ")"
   ]
  },
  {
   "cell_type": "markdown",
   "id": "53ed59e9-192d-4c88-9fcd-f55602cf3bc2",
   "metadata": {},
   "source": [
    "Удаление записей возвратов"
   ]
  },
  {
   "cell_type": "code",
   "execution_count": 14,
   "id": "0a4eba6f-82d4-4f7a-86e3-98185b8ed731",
   "metadata": {},
   "outputs": [
    {
     "name": "stdout",
     "output_type": "stream",
     "text": [
      "<class 'pandas.core.frame.DataFrame'>\n",
      "Index: 815673 entries, 0 to 815743\n",
      "Data columns (total 18 columns):\n",
      " #   Column                   Non-Null Count   Dtype         \n",
      "---  ------                   --------------   -----         \n",
      " 0   st_id                    815673 non-null  object        \n",
      " 1   pr_sku_id                815673 non-null  object        \n",
      " 2   date                     815673 non-null  datetime64[ns]\n",
      " 3   pr_sales_type_id         815673 non-null  int64         \n",
      " 4   pr_sales_in_units        815673 non-null  float64       \n",
      " 5   pr_promo_sales_in_units  815673 non-null  float64       \n",
      " 6   pr_sales_in_rub          815673 non-null  float64       \n",
      " 7   pr_promo_sales_in_rub    815673 non-null  float64       \n",
      " 8   st_city_id               815673 non-null  object        \n",
      " 9   st_division_code         815673 non-null  object        \n",
      " 10  st_type_format_id        815673 non-null  int64         \n",
      " 11  st_type_loc_id           815673 non-null  int64         \n",
      " 12  st_type_size_id          815673 non-null  int64         \n",
      " 13  st_is_active             815673 non-null  int64         \n",
      " 14  pr_group_id              815673 non-null  object        \n",
      " 15  pr_cat_id                815673 non-null  object        \n",
      " 16  pr_subcat_id             815673 non-null  object        \n",
      " 17  pr_uom_id                815673 non-null  int64         \n",
      "dtypes: datetime64[ns](1), float64(4), int64(6), object(7)\n",
      "memory usage: 118.2+ MB\n"
     ]
    }
   ],
   "source": [
    "common_df = common_df.loc[common_df['pr_sales_in_units'] > 0]\n",
    "common_df.info()"
   ]
  },
  {
   "cell_type": "code",
   "execution_count": 15,
   "id": "5751dec2-42a3-4464-af35-5206833aa2c3",
   "metadata": {},
   "outputs": [
    {
     "data": {
      "text/plain": [
       "count    815673.000000\n",
       "mean          5.451414\n",
       "std          13.864076\n",
       "min           1.000000\n",
       "25%           1.000000\n",
       "50%           2.000000\n",
       "75%           5.000000\n",
       "max        2348.000000\n",
       "Name: pr_sales_in_units, dtype: float64"
      ]
     },
     "execution_count": 15,
     "metadata": {},
     "output_type": "execute_result"
    }
   ],
   "source": [
    "common_df['pr_sales_in_units'].describe()"
   ]
  },
  {
   "cell_type": "code",
   "execution_count": 16,
   "id": "69ad686f-b7c6-4df3-870a-4b07cf233279",
   "metadata": {},
   "outputs": [
    {
     "data": {
      "image/png": "[encoded data removed]",
      "text/plain": [
       "<Figure size 640x480 with 1 Axes>"
      ]
     },
     "metadata": {},
     "output_type": "display_data"
    }
   ],
   "source": [
    "sns.kdeplot(common_df, x='pr_sales_in_units', clip=(-10, 50), fill=True);"
   ]
  },
  {
   "cell_type": "markdown",
   "id": "fd0ce8ca-e9fa-4c42-86e9-b9e3eaa93974",
   "metadata": {},
   "source": [
    "**Вывод:** среднее значение больше медианного, наблюдается правосторонняя асимметрия."
   ]
  },
  {
   "cell_type": "markdown",
   "id": "ec3c540c-dd94-4133-b694-ab53debb3717",
   "metadata": {},
   "source": [
    "#### Добавление календаря РФ"
   ]
  },
  {
   "cell_type": "code",
   "execution_count": 17,
   "id": "688f7ad8-cc58-464b-997b-fe9a44211e26",
   "metadata": {},
   "outputs": [
    {
     "name": "stdout",
     "output_type": "stream",
     "text": [
      "<class 'pandas.core.frame.DataFrame'>\n",
      "RangeIndex: 3653 entries, 0 to 3652\n",
      "Data columns (total 7 columns):\n",
      " #   Column   Non-Null Count  Dtype \n",
      "---  ------   --------------  ----- \n",
      " 0   year     3653 non-null   int64 \n",
      " 1   day      3653 non-null   int64 \n",
      " 2   weekday  3653 non-null   int64 \n",
      " 3   date     3653 non-null   object\n",
      " 4   calday   3653 non-null   int64 \n",
      " 5   holiday  3653 non-null   int64 \n",
      " 6   covid    3653 non-null   int64 \n",
      "dtypes: int64(6), object(1)\n",
      "memory usage: 199.9+ KB\n"
     ]
    },
    {
     "data": {
      "text/html": [
       "<div>\n",
       "<style scoped>\n",
       "    .dataframe tbody tr th:only-of-type {\n",
       "        vertical-align: middle;\n",
       "    }\n",
       "\n",
       "    .dataframe tbody tr th {\n",
       "        vertical-align: top;\n",
       "    }\n",
       "\n",
       "    .dataframe thead th {\n",
       "        text-align: right;\n",
       "    }\n",
       "</style>\n",
       "<table border=\"1\" class=\"dataframe\">\n",
       "  <thead>\n",
       "    <tr style=\"text-align: right;\">\n",
       "      <th></th>\n",
       "      <th>year</th>\n",
       "      <th>day</th>\n",
       "      <th>weekday</th>\n",
       "      <th>date</th>\n",
       "      <th>calday</th>\n",
       "      <th>holiday</th>\n",
       "      <th>covid</th>\n",
       "    </tr>\n",
       "  </thead>\n",
       "  <tbody>\n",
       "    <tr>\n",
       "      <th>823</th>\n",
       "      <td>2017</td>\n",
       "      <td>3</td>\n",
       "      <td>1</td>\n",
       "      <td>03.04.2017</td>\n",
       "      <td>20170403</td>\n",
       "      <td>0</td>\n",
       "      <td>0</td>\n",
       "    </tr>\n",
       "  </tbody>\n",
       "</table>\n",
       "</div>"
      ],
      "text/plain": [
       "     year  day  weekday        date    calday  holiday  covid\n",
       "823  2017    3        1  03.04.2017  20170403        0      0"
      ]
     },
     "execution_count": 17,
     "metadata": {},
     "output_type": "execute_result"
    }
   ],
   "source": [
    "calendar = pd.read_csv('holidays_covid_calendar.csv')\n",
    "calendar.info()\n",
    "calendar.sample()"
   ]
  },
  {
   "cell_type": "code",
   "execution_count": 18,
   "id": "0d8d0458-598a-4cd8-b2a6-1ee9cd883d93",
   "metadata": {},
   "outputs": [],
   "source": [
    "holidays = calendar[['date', 'holiday']]\n",
    "holidays['date'] = pd.to_datetime(holidays['date'], format='%d.%m.%Y')"
   ]
  },
  {
   "cell_type": "code",
   "execution_count": 19,
   "id": "299a6220-75ec-49f4-8ab0-2bc5bf0aca7d",
   "metadata": {},
   "outputs": [
    {
     "data": {
      "text/html": [
       "<div>\n",
       "<style scoped>\n",
       "    .dataframe tbody tr th:only-of-type {\n",
       "        vertical-align: middle;\n",
       "    }\n",
       "\n",
       "    .dataframe tbody tr th {\n",
       "        vertical-align: top;\n",
       "    }\n",
       "\n",
       "    .dataframe thead th {\n",
       "        text-align: right;\n",
       "    }\n",
       "</style>\n",
       "<table border=\"1\" class=\"dataframe\">\n",
       "  <thead>\n",
       "    <tr style=\"text-align: right;\">\n",
       "      <th></th>\n",
       "      <th>st_id</th>\n",
       "      <th>pr_sku_id</th>\n",
       "      <th>date</th>\n",
       "      <th>pr_sales_type_id</th>\n",
       "      <th>pr_sales_in_units</th>\n",
       "      <th>pr_promo_sales_in_units</th>\n",
       "      <th>pr_sales_in_rub</th>\n",
       "      <th>pr_promo_sales_in_rub</th>\n",
       "      <th>st_city_id</th>\n",
       "      <th>st_division_code</th>\n",
       "      <th>st_type_format_id</th>\n",
       "      <th>st_type_loc_id</th>\n",
       "      <th>st_type_size_id</th>\n",
       "      <th>st_is_active</th>\n",
       "      <th>pr_group_id</th>\n",
       "      <th>pr_cat_id</th>\n",
       "      <th>pr_subcat_id</th>\n",
       "      <th>pr_uom_id</th>\n",
       "      <th>holiday</th>\n",
       "    </tr>\n",
       "  </thead>\n",
       "  <tbody>\n",
       "    <tr>\n",
       "      <th>0</th>\n",
       "      <td>c81e728d9d4c2f636f067f89cc14862c</td>\n",
       "      <td>3479dfb41694951fdddeccbe67f59050</td>\n",
       "      <td>2022-08-01</td>\n",
       "      <td>0</td>\n",
       "      <td>2.0</td>\n",
       "      <td>0.0</td>\n",
       "      <td>362.0</td>\n",
       "      <td>0.0</td>\n",
       "      <td>908c9a564a86426585b29f5335b619bc</td>\n",
       "      <td>429a86ff6336c144ddaf6144f52ab52c</td>\n",
       "      <td>1</td>\n",
       "      <td>1</td>\n",
       "      <td>8</td>\n",
       "      <td>1</td>\n",
       "      <td>aab3238922bcc25a6f606eb525ffdc56</td>\n",
       "      <td>9701a1c165dd9420816bfec5edd6c2b1</td>\n",
       "      <td>8afe22eeb3f3f68de994a3c60388858c</td>\n",
       "      <td>1</td>\n",
       "      <td>0</td>\n",
       "    </tr>\n",
       "    <tr>\n",
       "      <th>1</th>\n",
       "      <td>16a5cdae362b8d27a1d8f8c7b78b4330</td>\n",
       "      <td>d5bfeecaaa47887a4b92d17fa55c2e18</td>\n",
       "      <td>2022-08-01</td>\n",
       "      <td>1</td>\n",
       "      <td>2.0</td>\n",
       "      <td>2.0</td>\n",
       "      <td>14.0</td>\n",
       "      <td>14.0</td>\n",
       "      <td>c1f75cc0f7fe269dd0fd9bd5e24f9586</td>\n",
       "      <td>296bd0cc6e735f9d7488ebc8fbc19130</td>\n",
       "      <td>1</td>\n",
       "      <td>2</td>\n",
       "      <td>8</td>\n",
       "      <td>1</td>\n",
       "      <td>c74d97b01eae257e44aa9d5bade97baf</td>\n",
       "      <td>c559da2ba967eb820766939a658022c8</td>\n",
       "      <td>1e2248e0a1305fdf1dca5510e06a2b96</td>\n",
       "      <td>17</td>\n",
       "      <td>0</td>\n",
       "    </tr>\n",
       "    <tr>\n",
       "      <th>2</th>\n",
       "      <td>42a0e188f5033bc65bf8d78622277c4e</td>\n",
       "      <td>17667b08596154dc5e9417f410cbced3</td>\n",
       "      <td>2022-08-01</td>\n",
       "      <td>0</td>\n",
       "      <td>1.0</td>\n",
       "      <td>0.0</td>\n",
       "      <td>420.0</td>\n",
       "      <td>0.0</td>\n",
       "      <td>b8b4b727d6f5d1b61fff7be687f7970f</td>\n",
       "      <td>da742b3cfca5388aaf9af28a726a3c30</td>\n",
       "      <td>1</td>\n",
       "      <td>1</td>\n",
       "      <td>12</td>\n",
       "      <td>1</td>\n",
       "      <td>aab3238922bcc25a6f606eb525ffdc56</td>\n",
       "      <td>28fc2782ea7ef51c1104ccf7b9bea13d</td>\n",
       "      <td>7a8aebb07d6e8ba9da453ec0f3f359a4</td>\n",
       "      <td>1</td>\n",
       "      <td>0</td>\n",
       "    </tr>\n",
       "    <tr>\n",
       "      <th>3</th>\n",
       "      <td>f7e6c85504ce6e82442c770f7c8606f0</td>\n",
       "      <td>064e3a5648fb4a7f911155bd81f87fd2</td>\n",
       "      <td>2022-08-01</td>\n",
       "      <td>0</td>\n",
       "      <td>2.0</td>\n",
       "      <td>0.0</td>\n",
       "      <td>370.0</td>\n",
       "      <td>0.0</td>\n",
       "      <td>3202111cf90e7c816a472aaceb72b0df</td>\n",
       "      <td>32586311f16876abf92901085bd87b99</td>\n",
       "      <td>1</td>\n",
       "      <td>1</td>\n",
       "      <td>12</td>\n",
       "      <td>1</td>\n",
       "      <td>aab3238922bcc25a6f606eb525ffdc56</td>\n",
       "      <td>28fc2782ea7ef51c1104ccf7b9bea13d</td>\n",
       "      <td>a13b7a6b8e80d44d044c257a08ecccca</td>\n",
       "      <td>1</td>\n",
       "      <td>0</td>\n",
       "    </tr>\n",
       "    <tr>\n",
       "      <th>4</th>\n",
       "      <td>16a5cdae362b8d27a1d8f8c7b78b4330</td>\n",
       "      <td>4aef9bef9b3460130ca6cc0da3eba88a</td>\n",
       "      <td>2022-08-01</td>\n",
       "      <td>0</td>\n",
       "      <td>5.0</td>\n",
       "      <td>0.0</td>\n",
       "      <td>74.0</td>\n",
       "      <td>0.0</td>\n",
       "      <td>c1f75cc0f7fe269dd0fd9bd5e24f9586</td>\n",
       "      <td>296bd0cc6e735f9d7488ebc8fbc19130</td>\n",
       "      <td>1</td>\n",
       "      <td>2</td>\n",
       "      <td>8</td>\n",
       "      <td>1</td>\n",
       "      <td>c74d97b01eae257e44aa9d5bade97baf</td>\n",
       "      <td>c559da2ba967eb820766939a658022c8</td>\n",
       "      <td>1e2248e0a1305fdf1dca5510e06a2b96</td>\n",
       "      <td>17</td>\n",
       "      <td>0</td>\n",
       "    </tr>\n",
       "  </tbody>\n",
       "</table>\n",
       "</div>"
      ],
      "text/plain": [
       "                              st_id                         pr_sku_id  \\\n",
       "0  c81e728d9d4c2f636f067f89cc14862c  3479dfb41694951fdddeccbe67f59050   \n",
       "1  16a5cdae362b8d27a1d8f8c7b78b4330  d5bfeecaaa47887a4b92d17fa55c2e18   \n",
       "2  42a0e188f5033bc65bf8d78622277c4e  17667b08596154dc5e9417f410cbced3   \n",
       "3  f7e6c85504ce6e82442c770f7c8606f0  064e3a5648fb4a7f911155bd81f87fd2   \n",
       "4  16a5cdae362b8d27a1d8f8c7b78b4330  4aef9bef9b3460130ca6cc0da3eba88a   \n",
       "\n",
       "        date  pr_sales_type_id  pr_sales_in_units  pr_promo_sales_in_units  \\\n",
       "0 2022-08-01                 0                2.0                      0.0   \n",
       "1 2022-08-01                 1                2.0                      2.0   \n",
       "2 2022-08-01                 0                1.0                      0.0   \n",
       "3 2022-08-01                 0                2.0                      0.0   \n",
       "4 2022-08-01                 0                5.0                      0.0   \n",
       "\n",
       "   pr_sales_in_rub  pr_promo_sales_in_rub                        st_city_id  \\\n",
       "0            362.0                    0.0  908c9a564a86426585b29f5335b619bc   \n",
       "1             14.0                   14.0  c1f75cc0f7fe269dd0fd9bd5e24f9586   \n",
       "2            420.0                    0.0  b8b4b727d6f5d1b61fff7be687f7970f   \n",
       "3            370.0                    0.0  3202111cf90e7c816a472aaceb72b0df   \n",
       "4             74.0                    0.0  c1f75cc0f7fe269dd0fd9bd5e24f9586   \n",
       "\n",
       "                   st_division_code  st_type_format_id  st_type_loc_id  \\\n",
       "0  429a86ff6336c144ddaf6144f52ab52c                  1               1   \n",
       "1  296bd0cc6e735f9d7488ebc8fbc19130                  1               2   \n",
       "2  da742b3cfca5388aaf9af28a726a3c30                  1               1   \n",
       "3  32586311f16876abf92901085bd87b99                  1               1   \n",
       "4  296bd0cc6e735f9d7488ebc8fbc19130                  1               2   \n",
       "\n",
       "   st_type_size_id  st_is_active                       pr_group_id  \\\n",
       "0                8             1  aab3238922bcc25a6f606eb525ffdc56   \n",
       "1                8             1  c74d97b01eae257e44aa9d5bade97baf   \n",
       "2               12             1  aab3238922bcc25a6f606eb525ffdc56   \n",
       "3               12             1  aab3238922bcc25a6f606eb525ffdc56   \n",
       "4                8             1  c74d97b01eae257e44aa9d5bade97baf   \n",
       "\n",
       "                          pr_cat_id                      pr_subcat_id  \\\n",
       "0  9701a1c165dd9420816bfec5edd6c2b1  8afe22eeb3f3f68de994a3c60388858c   \n",
       "1  c559da2ba967eb820766939a658022c8  1e2248e0a1305fdf1dca5510e06a2b96   \n",
       "2  28fc2782ea7ef51c1104ccf7b9bea13d  7a8aebb07d6e8ba9da453ec0f3f359a4   \n",
       "3  28fc2782ea7ef51c1104ccf7b9bea13d  a13b7a6b8e80d44d044c257a08ecccca   \n",
       "4  c559da2ba967eb820766939a658022c8  1e2248e0a1305fdf1dca5510e06a2b96   \n",
       "\n",
       "   pr_uom_id  holiday  \n",
       "0          1        0  \n",
       "1         17        0  \n",
       "2          1        0  \n",
       "3          1        0  \n",
       "4         17        0  "
      ]
     },
     "execution_count": 19,
     "metadata": {},
     "output_type": "execute_result"
    }
   ],
   "source": [
    "common_df = common_df.merge(holidays, on='date', how='left')\n",
    "common_df.head()"
   ]
  },
  {
   "cell_type": "markdown",
   "id": "0f50634b-d054-4ca9-a693-d6cdd3363424",
   "metadata": {},
   "source": [
    "#### Тепловая диаграмма для выявления корреляции между категориальными признаками"
   ]
  },
  {
   "cell_type": "code",
   "execution_count": 21,
   "id": "b4425b11-f300-4575-85ce-74ec92042532",
   "metadata": {},
   "outputs": [
    {
     "name": "stdout",
     "output_type": "stream",
     "text": [
      "interval columns not set, guessing: ['pr_sales_type_id', 'st_type_format_id', 'st_type_loc_id', 'st_type_size_id', 'st_is_active', 'pr_uom_id', 'holiday']\n"
     ]
    }
   ],
   "source": [
    "categ_cols = [\n",
    "    'st_id', 'pr_sales_type_id', 'st_city_id', 'st_division_code', \n",
    "    'st_type_format_id', 'st_type_loc_id', 'st_type_size_id', 'st_is_active', \n",
    "    'pr_group_id', 'pr_cat_id', 'pr_subcat_id', 'pr_sku_id', 'pr_uom_id', 'holiday'\n",
    "    ]\n",
    "phik_overview = common_df[categ_cols].phik_matrix();"
   ]
  },
  {
   "cell_type": "code",
   "execution_count": 22,
   "id": "727343d7-9f99-4855-87f0-0d0c9c33b6eb",
   "metadata": {},
   "outputs": [
    {
     "data": {
      "image/png": "[encoded data removed]",
      "text/plain": [
       "<Figure size 1000x1000 with 2 Axes>"
      ]
     },
     "metadata": {},
     "output_type": "display_data"
    }
   ],
   "source": [
    "sns.set()\n",
    "plot_correlation_matrix(phik_overview.values, \n",
    "                        x_labels=phik_overview.columns, \n",
    "                        y_labels=phik_overview.index, \n",
    "                        vmin=0, vmax=1, \n",
    "                        fontsize_factor=1.0, figsize=(10, 10))\n",
    "\n",
    "plt.title('Связи между категориальными признаками', fontsize=12, y=1.02)\n",
    "plt.tight_layout()"
   ]
  },
  {
   "cell_type": "markdown",
   "id": "b798a3a2-1153-4869-aa41-da43bfdcc4e7",
   "metadata": {},
   "source": [
    "Наблюдается сильная зависимость между категориальными признаками, что вполне логично. <br>Удаление зависимых признаков."
   ]
  },
  {
   "cell_type": "code",
   "execution_count": 23,
   "id": "50489853-c922-48fe-b29e-7cba60bf30de",
   "metadata": {},
   "outputs": [],
   "source": [
    "common_df = common_df.drop(\n",
    "    ['pr_uom_id', 'pr_subcat_id', 'pr_cat_id', \n",
    "     'pr_group_id', 'st_type_size_id', 'st_type_loc_id', 'st_type_format_id', \n",
    "     'st_division_code', 'st_city_id', 'st_id', 'st_is_active'], axis=1\n",
    ")"
   ]
  },
  {
   "cell_type": "markdown",
   "id": "8d02e7e5-7f98-4d48-bfc4-3572126ab652",
   "metadata": {},
   "source": [
    "#### Связи между количественными признаками"
   ]
  },
  {
   "cell_type": "code",
   "execution_count": 27,
   "id": "05df85b7-40a8-42e6-b3f2-5f1196ff696d",
   "metadata": {},
   "outputs": [
    {
     "name": "stdout",
     "output_type": "stream",
     "text": [
      "interval columns not set, guessing: ['pr_sales_in_units', 'pr_promo_sales_in_units', 'pr_sales_in_rub', 'pr_promo_sales_in_rub']\n"
     ]
    }
   ],
   "source": [
    "quant_cols = ['pr_sales_in_units', 'pr_promo_sales_in_units', 'pr_sales_in_rub', 'pr_promo_sales_in_rub']\n",
    "phik_overview_q = common_df[quant_cols].phik_matrix();"
   ]
  },
  {
   "cell_type": "code",
   "execution_count": 30,
   "id": "746183a9-06d0-4835-817b-21038b8da5b1",
   "metadata": {},
   "outputs": [
    {
     "data": {
      "image/png": "[encoded data removed]",
      "text/plain": [
       "<Figure size 600x600 with 2 Axes>"
      ]
     },
     "metadata": {},
     "output_type": "display_data"
    }
   ],
   "source": [
    "sns.set()\n",
    "plot_correlation_matrix(phik_overview_q.values, \n",
    "                        x_labels=phik_overview.columns, \n",
    "                        y_labels=phik_overview.index, \n",
    "                        vmin=0, vmax=1, \n",
    "                        fontsize_factor=1.0, figsize=(6, 6))\n",
    "\n",
    "plt.title('Связи между количественными признаками', fontsize=10, y=1.02)\n",
    "plt.tight_layout()"
   ]
  },
  {
   "cell_type": "markdown",
   "id": "5f071166-10d5-4004-b535-b68494493433",
   "metadata": {},
   "source": [
    "Удаление взаимнозависимых признаков"
   ]
  },
  {
   "cell_type": "code",
   "execution_count": null,
   "id": "8c671559-3c48-4415-9462-684124b257a2",
   "metadata": {},
   "outputs": [],
   "source": [
    "common_df = common_df.drop(['pr_promo_sales_in_units', 'pr_promo_sales_in_rub'], axis=1)"
   ]
  },
  {
   "cell_type": "markdown",
   "id": "d2c6bda7-eae4-4537-a258-958321659ac4",
   "metadata": {},
   "source": [
    "### Выводы\n",
    "- Данные предоставлены за период с `01.08.2022` по `18.07.2023`\n",
    "- Удалены записи (около 7.5% датасета):\n",
    "    - с нулевыми значениями в количестве проданных товаров и их стоимости,\n",
    "    - с нулевыми значениями в количестве проданных товаров и ненулевыми в их стоимости (действие согласовано с бизнесом)\n",
    "- Удалены записи по магазинам без маркера активности (действие согласовано с бизнесом):\n",
    "    - им соответствует 729 записей, что составляет 0.08% датасета\n",
    "- Удалены признаки, имеющие высокую корреляцию"
   ]
  },
  {
   "cell_type": "code",
   "execution_count": null,
   "id": "758d8c2b-8100-45eb-bcd1-64efb58ac6fe",
   "metadata": {},
   "outputs": [],
   "source": []
  },
  {
   "cell_type": "code",
   "execution_count": null,
   "id": "029872b5-46bd-48d7-8fd7-5859bbf5e23e",
   "metadata": {},
   "outputs": [],
   "source": []
  },
  {
   "cell_type": "code",
   "execution_count": null,
   "id": "0d83e7e9-2a63-4c99-88ce-e1a76c0c524f",
   "metadata": {},
   "outputs": [],
   "source": []
  },
  {
   "cell_type": "code",
   "execution_count": null,
   "id": "71b9a4bd-5f84-41fa-8859-086f87c72b08",
   "metadata": {},
   "outputs": [],
   "source": []
  },
  {
   "cell_type": "code",
   "execution_count": null,
   "id": "100160e4-c57b-4bd5-bee3-9d9ffd13ca1b",
   "metadata": {},
   "outputs": [],
   "source": []
  },
  {
   "cell_type": "code",
   "execution_count": null,
   "id": "f0566ae0-5d70-4c5e-9835-a89c1abcc646",
   "metadata": {},
   "outputs": [],
   "source": []
  },
  {
   "cell_type": "code",
   "execution_count": null,
   "id": "773a758b-c105-42fa-90b8-bf6af647db2d",
   "metadata": {},
   "outputs": [],
   "source": []
  },
  {
   "cell_type": "markdown",
   "id": "689602fe-72cb-45fe-966e-77baf0be56a3",
   "metadata": {},
   "source": [
    "## Чек-лист\n",
    "1. Файл в зафиксированном формате с результатом прогноза спроса (sales_submission.csv).\n",
    "2. Воспроизводимый код на Python\n",
    "3. Описание решения:\n",
    "    \n",
    "    a. Описание обученной модели прогноза спроса\n",
    "    \n",
    "        i. Признаки\n",
    "        ii. интерпретация (shapley values),\n",
    "        iii. кросс-валидация\n",
    "        iv. алгоритмы\n",
    "    \n",
    "    b. Описание вашего алгоритма оптимизации:\n",
    "    \n",
    "        i. методология расчетов\n",
    "        ii. скорость оптимизации"
   ]
  }
 ],
 "metadata": {
  "kernelspec": {
   "display_name": "Python 3 (ipykernel)",
   "language": "python",
   "name": "python3"
  },
  "language_info": {
   "codemirror_mode": {
    "name": "ipython",
    "version": 3
   },
   "file_extension": ".py",
   "mimetype": "text/x-python",
   "name": "python",
   "nbconvert_exporter": "python",
   "pygments_lexer": "ipython3",
   "version": "3.10.12"
  }
 },
 "nbformat": 4,
 "nbformat_minor": 5
}
