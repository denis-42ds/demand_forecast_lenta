{
 "cells": [
  {
   "cell_type": "markdown",
   "id": "75495548-9daa-4da6-8b80-b18723edfaeb",
   "metadata": {},
   "source": [
    "# Модель прогнозирования спроса\n",
    "Краткое описание:\n",
    "<br>Необходимо создать алгоритм прогноза спроса на 14 дней для товаров собственного\n",
    "производства. Гранулярность ТК-SKU-День.\n",
    "\n",
    "Задача:\n",
    "<br>Построить модель прогноза спроса на основе мастер данных и данных продаж с учетом разных\n",
    "признаков.\n",
    "\n",
    "Метрика качества:\n",
    "<br>`WAPE`:\n",
    "<br>`def wape(y_true: np.array, y_pred: np.array):`\n",
    "    <br>`return np.sum(np.abs(y_true-y_pred))/np.sum(np.abs(y_true))`"
   ]
  },
  {
   "cell_type": "markdown",
   "id": "745068c6-bac0-415f-9c40-233ea17f63c0",
   "metadata": {},
   "source": [
    "### Описание данных\n",
    "1) sales_df_train.csv –данные по продажам за скользящий год для обучения.\n",
    "    * Столбцы:\n",
    "        - st_id – захэшированное id магазина;\n",
    "        - pr_sku_id – захэшированное id товара;\n",
    "        - date – дата;\n",
    "        - pr_sales_type_id – флаг наличия промо;\n",
    "        - pr_sales_in_units – число проданных товаров всего (промо и без); **описание изменено после уточнения у бизнеса**\n",
    "        - pr_promo_sales_in_units – число проданных товаров с признаком промо;\n",
    "        - pr_sales_in_rub – продажи в РУБ всего (промо и без); **описание изменено после уточнения у бизнеса**\n",
    "        - pr_promo_sales_in_rub – продажи с признаком промо в РУБ;\n",
    "2) pr_df.csv – данные по товарной иерархии.\n",
    "<br>От большего к меньшему pr_group_id - pr_cat_id - pr_subcat_id - pr_sku_id.\n",
    "    - Столбцы:\n",
    "        - pr_group_id – захэшированная группа товара;\n",
    "        - pr_cat_id – захэшированная категория товара;\n",
    "        - pr_subcat_id – захэшированная подкатегория товара;\n",
    "        - pr_sku_id – захэшированное id товара;\n",
    "        - pr_uom_id (маркер, обозначающий продаётся товар на вес или в ШТ).\n",
    "3) pr_st.csv – данные по магазинам.\n",
    "    - Столбцы:\n",
    "        - st_id – захэшированное id магазина;\n",
    "        - st_city_id – захэшированное id города;\n",
    "        - st_division_code id – захэшированное id дивизиона;\n",
    "        - st_type_format_id – id формата магазина;\n",
    "        - st_type_loc_id – id тип локации/окружения магазина;\n",
    "        - st_type_size_id – id типа размера магазина;\n",
    "        - st_is_active – флаг активного магазина на данный момент."
   ]
  },
  {
   "cell_type": "markdown",
   "id": "5bc1a7fe-3b33-4e42-96cd-9817860179af",
   "metadata": {},
   "source": [
    "## Загрузка библиотек"
   ]
  },
  {
   "cell_type": "code",
   "execution_count": 1,
   "id": "3ad5d59f-b7eb-4db9-80a4-0c30225f281a",
   "metadata": {},
   "outputs": [],
   "source": [
    "import pandas as pd\n",
    "import numpy as np\n",
    "import matplotlib.pyplot as plt\n",
    "import seaborn as sns\n",
    "import warnings\n",
    "import phik\n",
    "from scipy.stats import norm\n",
    "from sklearn.preprocessing import StandardScaler\n",
    "from scipy import stats\n",
    "warnings.filterwarnings('ignore')\n",
    "%matplotlib inline"
   ]
  },
  {
   "cell_type": "markdown",
   "id": "53575156-6de2-4211-b418-ad24501d768d",
   "metadata": {},
   "source": [
    "## Знакомство с данными"
   ]
  },
  {
   "cell_type": "markdown",
   "id": "f3a15340-c36c-4912-8314-2c3a62b073d3",
   "metadata": {},
   "source": [
    "Пример файла с результатом прогноза"
   ]
  },
  {
   "cell_type": "code",
   "execution_count": null,
   "id": "57373e08-caea-4588-b3d6-dd206971cdae",
   "metadata": {
    "scrolled": true
   },
   "outputs": [],
   "source": [
    "# sales_submission_ex = pd.read_csv('sp_sales_task/sales_submission.csv')\n",
    "# sales_submission_ex.head()"
   ]
  },
  {
   "cell_type": "code",
   "execution_count": 2,
   "id": "945fe72b-316e-4419-8dd5-4368b4d620df",
   "metadata": {},
   "outputs": [],
   "source": [
    "pr_df = pd.read_csv('sp_sales_task/pr_df.csv')\n",
    "pr_st = pd.read_csv('sp_sales_task/st_df.csv')\n",
    "sales_df = pd.read_csv('sp_sales_task/sales_df_train.csv')"
   ]
  },
  {
   "cell_type": "code",
   "execution_count": 3,
   "id": "15e44bce-c4d5-44e5-859c-7ca6a806a564",
   "metadata": {},
   "outputs": [
    {
     "data": {
      "text/html": [
       "<div>\n",
       "<style scoped>\n",
       "    .dataframe tbody tr th:only-of-type {\n",
       "        vertical-align: middle;\n",
       "    }\n",
       "\n",
       "    .dataframe tbody tr th {\n",
       "        vertical-align: top;\n",
       "    }\n",
       "\n",
       "    .dataframe thead th {\n",
       "        text-align: right;\n",
       "    }\n",
       "</style>\n",
       "<table border=\"1\" class=\"dataframe\">\n",
       "  <thead>\n",
       "    <tr style=\"text-align: right;\">\n",
       "      <th></th>\n",
       "      <th>pr_sku_id</th>\n",
       "      <th>pr_group_id</th>\n",
       "      <th>pr_cat_id</th>\n",
       "      <th>pr_subcat_id</th>\n",
       "      <th>pr_uom_id</th>\n",
       "    </tr>\n",
       "  </thead>\n",
       "  <tbody>\n",
       "    <tr>\n",
       "      <th>1514</th>\n",
       "      <td>ced1b276c04d70176ac39aaf5423e19a</td>\n",
       "      <td>c74d97b01eae257e44aa9d5bade97baf</td>\n",
       "      <td>1bc0249a6412ef49b07fe6f62e6dc8de</td>\n",
       "      <td>6639ae8d530e71980239f7bff60e247c</td>\n",
       "      <td>17</td>\n",
       "    </tr>\n",
       "  </tbody>\n",
       "</table>\n",
       "</div>"
      ],
      "text/plain": [
       "                             pr_sku_id                       pr_group_id  \\\n",
       "1514  ced1b276c04d70176ac39aaf5423e19a  c74d97b01eae257e44aa9d5bade97baf   \n",
       "\n",
       "                             pr_cat_id                      pr_subcat_id  \\\n",
       "1514  1bc0249a6412ef49b07fe6f62e6dc8de  6639ae8d530e71980239f7bff60e247c   \n",
       "\n",
       "      pr_uom_id  \n",
       "1514         17  "
      ]
     },
     "metadata": {},
     "output_type": "display_data"
    },
    {
     "name": "stdout",
     "output_type": "stream",
     "text": [
      "<class 'pandas.core.frame.DataFrame'>\n",
      "RangeIndex: 2050 entries, 0 to 2049\n",
      "Data columns (total 5 columns):\n",
      " #   Column        Non-Null Count  Dtype \n",
      "---  ------        --------------  ----- \n",
      " 0   pr_sku_id     2050 non-null   object\n",
      " 1   pr_group_id   2050 non-null   object\n",
      " 2   pr_cat_id     2050 non-null   object\n",
      " 3   pr_subcat_id  2050 non-null   object\n",
      " 4   pr_uom_id     2050 non-null   int64 \n",
      "dtypes: int64(1), object(4)\n",
      "memory usage: 80.2+ KB\n"
     ]
    },
    {
     "data": {
      "text/html": [
       "<div>\n",
       "<style scoped>\n",
       "    .dataframe tbody tr th:only-of-type {\n",
       "        vertical-align: middle;\n",
       "    }\n",
       "\n",
       "    .dataframe tbody tr th {\n",
       "        vertical-align: top;\n",
       "    }\n",
       "\n",
       "    .dataframe thead th {\n",
       "        text-align: right;\n",
       "    }\n",
       "</style>\n",
       "<table border=\"1\" class=\"dataframe\">\n",
       "  <thead>\n",
       "    <tr style=\"text-align: right;\">\n",
       "      <th></th>\n",
       "      <th>st_id</th>\n",
       "      <th>st_city_id</th>\n",
       "      <th>st_division_code</th>\n",
       "      <th>st_type_format_id</th>\n",
       "      <th>st_type_loc_id</th>\n",
       "      <th>st_type_size_id</th>\n",
       "      <th>st_is_active</th>\n",
       "    </tr>\n",
       "  </thead>\n",
       "  <tbody>\n",
       "    <tr>\n",
       "      <th>6</th>\n",
       "      <td>42a0e188f5033bc65bf8d78622277c4e</td>\n",
       "      <td>b8b4b727d6f5d1b61fff7be687f7970f</td>\n",
       "      <td>da742b3cfca5388aaf9af28a726a3c30</td>\n",
       "      <td>1</td>\n",
       "      <td>1</td>\n",
       "      <td>12</td>\n",
       "      <td>1</td>\n",
       "    </tr>\n",
       "  </tbody>\n",
       "</table>\n",
       "</div>"
      ],
      "text/plain": [
       "                              st_id                        st_city_id  \\\n",
       "6  42a0e188f5033bc65bf8d78622277c4e  b8b4b727d6f5d1b61fff7be687f7970f   \n",
       "\n",
       "                   st_division_code  st_type_format_id  st_type_loc_id  \\\n",
       "6  da742b3cfca5388aaf9af28a726a3c30                  1               1   \n",
       "\n",
       "   st_type_size_id  st_is_active  \n",
       "6               12             1  "
      ]
     },
     "metadata": {},
     "output_type": "display_data"
    },
    {
     "name": "stdout",
     "output_type": "stream",
     "text": [
      "<class 'pandas.core.frame.DataFrame'>\n",
      "RangeIndex: 12 entries, 0 to 11\n",
      "Data columns (total 7 columns):\n",
      " #   Column             Non-Null Count  Dtype \n",
      "---  ------             --------------  ----- \n",
      " 0   st_id              12 non-null     object\n",
      " 1   st_city_id         12 non-null     object\n",
      " 2   st_division_code   12 non-null     object\n",
      " 3   st_type_format_id  12 non-null     int64 \n",
      " 4   st_type_loc_id     12 non-null     int64 \n",
      " 5   st_type_size_id    12 non-null     int64 \n",
      " 6   st_is_active       12 non-null     int64 \n",
      "dtypes: int64(4), object(3)\n",
      "memory usage: 800.0+ bytes\n"
     ]
    },
    {
     "data": {
      "text/html": [
       "<div>\n",
       "<style scoped>\n",
       "    .dataframe tbody tr th:only-of-type {\n",
       "        vertical-align: middle;\n",
       "    }\n",
       "\n",
       "    .dataframe tbody tr th {\n",
       "        vertical-align: top;\n",
       "    }\n",
       "\n",
       "    .dataframe thead th {\n",
       "        text-align: right;\n",
       "    }\n",
       "</style>\n",
       "<table border=\"1\" class=\"dataframe\">\n",
       "  <thead>\n",
       "    <tr style=\"text-align: right;\">\n",
       "      <th></th>\n",
       "      <th>st_id</th>\n",
       "      <th>pr_sku_id</th>\n",
       "      <th>date</th>\n",
       "      <th>pr_sales_type_id</th>\n",
       "      <th>pr_sales_in_units</th>\n",
       "      <th>pr_promo_sales_in_units</th>\n",
       "      <th>pr_sales_in_rub</th>\n",
       "      <th>pr_promo_sales_in_rub</th>\n",
       "    </tr>\n",
       "  </thead>\n",
       "  <tbody>\n",
       "    <tr>\n",
       "      <th>215063</th>\n",
       "      <td>16a5cdae362b8d27a1d8f8c7b78b4330</td>\n",
       "      <td>f152516615efd05cf4b4903b03d4a45d</td>\n",
       "      <td>2023-03-06</td>\n",
       "      <td>1</td>\n",
       "      <td>4.0</td>\n",
       "      <td>4.0</td>\n",
       "      <td>483.0</td>\n",
       "      <td>483.0</td>\n",
       "    </tr>\n",
       "  </tbody>\n",
       "</table>\n",
       "</div>"
      ],
      "text/plain": [
       "                                   st_id                         pr_sku_id  \\\n",
       "215063  16a5cdae362b8d27a1d8f8c7b78b4330  f152516615efd05cf4b4903b03d4a45d   \n",
       "\n",
       "              date  pr_sales_type_id  pr_sales_in_units  \\\n",
       "215063  2023-03-06                 1                4.0   \n",
       "\n",
       "        pr_promo_sales_in_units  pr_sales_in_rub  pr_promo_sales_in_rub  \n",
       "215063                      4.0            483.0                  483.0  "
      ]
     },
     "metadata": {},
     "output_type": "display_data"
    },
    {
     "name": "stdout",
     "output_type": "stream",
     "text": [
      "<class 'pandas.core.frame.DataFrame'>\n",
      "RangeIndex: 883015 entries, 0 to 883014\n",
      "Data columns (total 8 columns):\n",
      " #   Column                   Non-Null Count   Dtype  \n",
      "---  ------                   --------------   -----  \n",
      " 0   st_id                    883015 non-null  object \n",
      " 1   pr_sku_id                883015 non-null  object \n",
      " 2   date                     883015 non-null  object \n",
      " 3   pr_sales_type_id         883015 non-null  int64  \n",
      " 4   pr_sales_in_units        883015 non-null  float64\n",
      " 5   pr_promo_sales_in_units  883015 non-null  float64\n",
      " 6   pr_sales_in_rub          883015 non-null  float64\n",
      " 7   pr_promo_sales_in_rub    883015 non-null  float64\n",
      "dtypes: float64(4), int64(1), object(3)\n",
      "memory usage: 53.9+ MB\n"
     ]
    }
   ],
   "source": [
    "display(pr_df.sample())\n",
    "pr_df.info()\n",
    "display(pr_st.sample())\n",
    "pr_st.info()\n",
    "display(sales_df.sample())\n",
    "sales_df.info()"
   ]
  },
  {
   "cell_type": "markdown",
   "id": "a7effbfb-62a4-453f-9c79-7ee0a614edd9",
   "metadata": {},
   "source": [
    "## Предобработка данных"
   ]
  },
  {
   "cell_type": "markdown",
   "id": "dff3914a-718b-4cb6-812c-51c847d6eaa3",
   "metadata": {},
   "source": [
    "#### Объединение датафреймов"
   ]
  },
  {
   "cell_type": "code",
   "execution_count": 4,
   "id": "f55fd342-68ab-4a20-9892-5ef8eab08054",
   "metadata": {},
   "outputs": [
    {
     "data": {
      "text/html": [
       "<div>\n",
       "<style scoped>\n",
       "    .dataframe tbody tr th:only-of-type {\n",
       "        vertical-align: middle;\n",
       "    }\n",
       "\n",
       "    .dataframe tbody tr th {\n",
       "        vertical-align: top;\n",
       "    }\n",
       "\n",
       "    .dataframe thead th {\n",
       "        text-align: right;\n",
       "    }\n",
       "</style>\n",
       "<table border=\"1\" class=\"dataframe\">\n",
       "  <thead>\n",
       "    <tr style=\"text-align: right;\">\n",
       "      <th></th>\n",
       "      <th>st_id</th>\n",
       "      <th>pr_sku_id</th>\n",
       "      <th>date</th>\n",
       "      <th>pr_sales_type_id</th>\n",
       "      <th>pr_sales_in_units</th>\n",
       "      <th>pr_promo_sales_in_units</th>\n",
       "      <th>pr_sales_in_rub</th>\n",
       "      <th>pr_promo_sales_in_rub</th>\n",
       "      <th>st_city_id</th>\n",
       "      <th>st_division_code</th>\n",
       "      <th>st_type_format_id</th>\n",
       "      <th>st_type_loc_id</th>\n",
       "      <th>st_type_size_id</th>\n",
       "      <th>st_is_active</th>\n",
       "      <th>pr_group_id</th>\n",
       "      <th>pr_cat_id</th>\n",
       "      <th>pr_subcat_id</th>\n",
       "      <th>pr_uom_id</th>\n",
       "    </tr>\n",
       "  </thead>\n",
       "  <tbody>\n",
       "    <tr>\n",
       "      <th>400995</th>\n",
       "      <td>c81e728d9d4c2f636f067f89cc14862c</td>\n",
       "      <td>263e163dbb6d251a80e00a4583c9d2d3</td>\n",
       "      <td>2023-02-12</td>\n",
       "      <td>1</td>\n",
       "      <td>2.0</td>\n",
       "      <td>2.0</td>\n",
       "      <td>31.0</td>\n",
       "      <td>31.0</td>\n",
       "      <td>908c9a564a86426585b29f5335b619bc</td>\n",
       "      <td>429a86ff6336c144ddaf6144f52ab52c</td>\n",
       "      <td>1</td>\n",
       "      <td>1</td>\n",
       "      <td>8</td>\n",
       "      <td>1</td>\n",
       "      <td>c74d97b01eae257e44aa9d5bade97baf</td>\n",
       "      <td>1bc0249a6412ef49b07fe6f62e6dc8de</td>\n",
       "      <td>68f204f3838bfee4ada868b66e6a0814</td>\n",
       "      <td>17</td>\n",
       "    </tr>\n",
       "  </tbody>\n",
       "</table>\n",
       "</div>"
      ],
      "text/plain": [
       "                                   st_id                         pr_sku_id  \\\n",
       "400995  c81e728d9d4c2f636f067f89cc14862c  263e163dbb6d251a80e00a4583c9d2d3   \n",
       "\n",
       "              date  pr_sales_type_id  pr_sales_in_units  \\\n",
       "400995  2023-02-12                 1                2.0   \n",
       "\n",
       "        pr_promo_sales_in_units  pr_sales_in_rub  pr_promo_sales_in_rub  \\\n",
       "400995                      2.0             31.0                   31.0   \n",
       "\n",
       "                              st_city_id                  st_division_code  \\\n",
       "400995  908c9a564a86426585b29f5335b619bc  429a86ff6336c144ddaf6144f52ab52c   \n",
       "\n",
       "        st_type_format_id  st_type_loc_id  st_type_size_id  st_is_active  \\\n",
       "400995                  1               1                8             1   \n",
       "\n",
       "                             pr_group_id                         pr_cat_id  \\\n",
       "400995  c74d97b01eae257e44aa9d5bade97baf  1bc0249a6412ef49b07fe6f62e6dc8de   \n",
       "\n",
       "                            pr_subcat_id  pr_uom_id  \n",
       "400995  68f204f3838bfee4ada868b66e6a0814         17  "
      ]
     },
     "metadata": {},
     "output_type": "display_data"
    },
    {
     "name": "stdout",
     "output_type": "stream",
     "text": [
      "<class 'pandas.core.frame.DataFrame'>\n",
      "RangeIndex: 883015 entries, 0 to 883014\n",
      "Data columns (total 18 columns):\n",
      " #   Column                   Non-Null Count   Dtype  \n",
      "---  ------                   --------------   -----  \n",
      " 0   st_id                    883015 non-null  object \n",
      " 1   pr_sku_id                883015 non-null  object \n",
      " 2   date                     883015 non-null  object \n",
      " 3   pr_sales_type_id         883015 non-null  int64  \n",
      " 4   pr_sales_in_units        883015 non-null  float64\n",
      " 5   pr_promo_sales_in_units  883015 non-null  float64\n",
      " 6   pr_sales_in_rub          883015 non-null  float64\n",
      " 7   pr_promo_sales_in_rub    883015 non-null  float64\n",
      " 8   st_city_id               883015 non-null  object \n",
      " 9   st_division_code         883015 non-null  object \n",
      " 10  st_type_format_id        883015 non-null  int64  \n",
      " 11  st_type_loc_id           883015 non-null  int64  \n",
      " 12  st_type_size_id          883015 non-null  int64  \n",
      " 13  st_is_active             883015 non-null  int64  \n",
      " 14  pr_group_id              883015 non-null  object \n",
      " 15  pr_cat_id                883015 non-null  object \n",
      " 16  pr_subcat_id             883015 non-null  object \n",
      " 17  pr_uom_id                883015 non-null  int64  \n",
      "dtypes: float64(4), int64(6), object(8)\n",
      "memory usage: 121.3+ MB\n"
     ]
    }
   ],
   "source": [
    "common_df = sales_df.merge(pr_st, on='st_id', how='left').merge(pr_df, on='pr_sku_id', how='left')\n",
    "display(common_df.sample())\n",
    "common_df.info()"
   ]
  },
  {
   "cell_type": "markdown",
   "id": "5e43d5b9-38fb-4f70-8b7d-e0fe0f03b517",
   "metadata": {},
   "source": [
    "#### Проверка нулевых значений в количестве"
   ]
  },
  {
   "cell_type": "code",
   "execution_count": 5,
   "id": "77fb2cae-4f3a-4df5-a756-7560d7d27401",
   "metadata": {},
   "outputs": [
    {
     "name": "stdout",
     "output_type": "stream",
     "text": [
      "нулевые продажи в шт и руб: 454 \n",
      "их доля в данных: 0.05 %\n",
      "нулевые продажи в шт, но не нулевые в рублях: 66089 \n",
      "их доля в данных: 7.48 %\n"
     ]
    },
    {
     "data": {
      "text/html": [
       "<div>\n",
       "<style scoped>\n",
       "    .dataframe tbody tr th:only-of-type {\n",
       "        vertical-align: middle;\n",
       "    }\n",
       "\n",
       "    .dataframe tbody tr th {\n",
       "        vertical-align: top;\n",
       "    }\n",
       "\n",
       "    .dataframe thead th {\n",
       "        text-align: right;\n",
       "    }\n",
       "</style>\n",
       "<table border=\"1\" class=\"dataframe\">\n",
       "  <thead>\n",
       "    <tr style=\"text-align: right;\">\n",
       "      <th></th>\n",
       "      <th>st_id</th>\n",
       "      <th>pr_sku_id</th>\n",
       "      <th>date</th>\n",
       "      <th>pr_sales_type_id</th>\n",
       "      <th>pr_sales_in_units</th>\n",
       "      <th>pr_promo_sales_in_units</th>\n",
       "      <th>pr_sales_in_rub</th>\n",
       "      <th>pr_promo_sales_in_rub</th>\n",
       "      <th>st_city_id</th>\n",
       "      <th>st_division_code</th>\n",
       "      <th>st_type_format_id</th>\n",
       "      <th>st_type_loc_id</th>\n",
       "      <th>st_type_size_id</th>\n",
       "      <th>st_is_active</th>\n",
       "      <th>pr_group_id</th>\n",
       "      <th>pr_cat_id</th>\n",
       "      <th>pr_subcat_id</th>\n",
       "      <th>pr_uom_id</th>\n",
       "    </tr>\n",
       "  </thead>\n",
       "  <tbody>\n",
       "    <tr>\n",
       "      <th>3</th>\n",
       "      <td>42a0e188f5033bc65bf8d78622277c4e</td>\n",
       "      <td>8e887cf8e64ab8e7173701a979476567</td>\n",
       "      <td>2023-04-05</td>\n",
       "      <td>1</td>\n",
       "      <td>0.0</td>\n",
       "      <td>0.0</td>\n",
       "      <td>69.0</td>\n",
       "      <td>69.0</td>\n",
       "      <td>b8b4b727d6f5d1b61fff7be687f7970f</td>\n",
       "      <td>da742b3cfca5388aaf9af28a726a3c30</td>\n",
       "      <td>1</td>\n",
       "      <td>1</td>\n",
       "      <td>12</td>\n",
       "      <td>1</td>\n",
       "      <td>aab3238922bcc25a6f606eb525ffdc56</td>\n",
       "      <td>28fc2782ea7ef51c1104ccf7b9bea13d</td>\n",
       "      <td>a13b7a6b8e80d44d044c257a08ecccca</td>\n",
       "      <td>1</td>\n",
       "    </tr>\n",
       "    <tr>\n",
       "      <th>6</th>\n",
       "      <td>f7e6c85504ce6e82442c770f7c8606f0</td>\n",
       "      <td>b75c7cbf7accdaea8a1a14781bb29870</td>\n",
       "      <td>2023-02-15</td>\n",
       "      <td>0</td>\n",
       "      <td>0.0</td>\n",
       "      <td>0.0</td>\n",
       "      <td>171.0</td>\n",
       "      <td>0.0</td>\n",
       "      <td>3202111cf90e7c816a472aaceb72b0df</td>\n",
       "      <td>32586311f16876abf92901085bd87b99</td>\n",
       "      <td>1</td>\n",
       "      <td>1</td>\n",
       "      <td>12</td>\n",
       "      <td>1</td>\n",
       "      <td>aab3238922bcc25a6f606eb525ffdc56</td>\n",
       "      <td>28fc2782ea7ef51c1104ccf7b9bea13d</td>\n",
       "      <td>d29b5ce9c2883f0b7e90f79071a2ca82</td>\n",
       "      <td>1</td>\n",
       "    </tr>\n",
       "    <tr>\n",
       "      <th>27</th>\n",
       "      <td>42a0e188f5033bc65bf8d78622277c4e</td>\n",
       "      <td>cfb54b1ce12bb3f9b6b9e2ea0b57414b</td>\n",
       "      <td>2022-11-10</td>\n",
       "      <td>0</td>\n",
       "      <td>0.0</td>\n",
       "      <td>0.0</td>\n",
       "      <td>91.0</td>\n",
       "      <td>0.0</td>\n",
       "      <td>b8b4b727d6f5d1b61fff7be687f7970f</td>\n",
       "      <td>da742b3cfca5388aaf9af28a726a3c30</td>\n",
       "      <td>1</td>\n",
       "      <td>1</td>\n",
       "      <td>12</td>\n",
       "      <td>1</td>\n",
       "      <td>c74d97b01eae257e44aa9d5bade97baf</td>\n",
       "      <td>1bc0249a6412ef49b07fe6f62e6dc8de</td>\n",
       "      <td>68f204f3838bfee4ada868b66e6a0814</td>\n",
       "      <td>1</td>\n",
       "    </tr>\n",
       "    <tr>\n",
       "      <th>28</th>\n",
       "      <td>f7e6c85504ce6e82442c770f7c8606f0</td>\n",
       "      <td>88d7313785c97631bf3df61e70636491</td>\n",
       "      <td>2022-11-30</td>\n",
       "      <td>0</td>\n",
       "      <td>0.0</td>\n",
       "      <td>0.0</td>\n",
       "      <td>79.0</td>\n",
       "      <td>0.0</td>\n",
       "      <td>3202111cf90e7c816a472aaceb72b0df</td>\n",
       "      <td>32586311f16876abf92901085bd87b99</td>\n",
       "      <td>1</td>\n",
       "      <td>1</td>\n",
       "      <td>12</td>\n",
       "      <td>1</td>\n",
       "      <td>aab3238922bcc25a6f606eb525ffdc56</td>\n",
       "      <td>9701a1c165dd9420816bfec5edd6c2b1</td>\n",
       "      <td>567115097ac405a46a84ef641c2d7069</td>\n",
       "      <td>1</td>\n",
       "    </tr>\n",
       "    <tr>\n",
       "      <th>32</th>\n",
       "      <td>fa7cdfad1a5aaf8370ebeda47a1ff1c3</td>\n",
       "      <td>b610088ddf586449793d3c6da70d4c56</td>\n",
       "      <td>2023-02-26</td>\n",
       "      <td>0</td>\n",
       "      <td>0.0</td>\n",
       "      <td>0.0</td>\n",
       "      <td>83.0</td>\n",
       "      <td>0.0</td>\n",
       "      <td>885fe656777008c335ac96072a45be15</td>\n",
       "      <td>296bd0cc6e735f9d7488ebc8fbc19130</td>\n",
       "      <td>1</td>\n",
       "      <td>1</td>\n",
       "      <td>12</td>\n",
       "      <td>1</td>\n",
       "      <td>c74d97b01eae257e44aa9d5bade97baf</td>\n",
       "      <td>f3173935ed8ac4bf073c1bcd63171f8a</td>\n",
       "      <td>5fd72b9fc7118bd36a137d7cea8c588a</td>\n",
       "      <td>1</td>\n",
       "    </tr>\n",
       "  </tbody>\n",
       "</table>\n",
       "</div>"
      ],
      "text/plain": [
       "                               st_id                         pr_sku_id  \\\n",
       "3   42a0e188f5033bc65bf8d78622277c4e  8e887cf8e64ab8e7173701a979476567   \n",
       "6   f7e6c85504ce6e82442c770f7c8606f0  b75c7cbf7accdaea8a1a14781bb29870   \n",
       "27  42a0e188f5033bc65bf8d78622277c4e  cfb54b1ce12bb3f9b6b9e2ea0b57414b   \n",
       "28  f7e6c85504ce6e82442c770f7c8606f0  88d7313785c97631bf3df61e70636491   \n",
       "32  fa7cdfad1a5aaf8370ebeda47a1ff1c3  b610088ddf586449793d3c6da70d4c56   \n",
       "\n",
       "          date  pr_sales_type_id  pr_sales_in_units  pr_promo_sales_in_units  \\\n",
       "3   2023-04-05                 1                0.0                      0.0   \n",
       "6   2023-02-15                 0                0.0                      0.0   \n",
       "27  2022-11-10                 0                0.0                      0.0   \n",
       "28  2022-11-30                 0                0.0                      0.0   \n",
       "32  2023-02-26                 0                0.0                      0.0   \n",
       "\n",
       "    pr_sales_in_rub  pr_promo_sales_in_rub                        st_city_id  \\\n",
       "3              69.0                   69.0  b8b4b727d6f5d1b61fff7be687f7970f   \n",
       "6             171.0                    0.0  3202111cf90e7c816a472aaceb72b0df   \n",
       "27             91.0                    0.0  b8b4b727d6f5d1b61fff7be687f7970f   \n",
       "28             79.0                    0.0  3202111cf90e7c816a472aaceb72b0df   \n",
       "32             83.0                    0.0  885fe656777008c335ac96072a45be15   \n",
       "\n",
       "                    st_division_code  st_type_format_id  st_type_loc_id  \\\n",
       "3   da742b3cfca5388aaf9af28a726a3c30                  1               1   \n",
       "6   32586311f16876abf92901085bd87b99                  1               1   \n",
       "27  da742b3cfca5388aaf9af28a726a3c30                  1               1   \n",
       "28  32586311f16876abf92901085bd87b99                  1               1   \n",
       "32  296bd0cc6e735f9d7488ebc8fbc19130                  1               1   \n",
       "\n",
       "    st_type_size_id  st_is_active                       pr_group_id  \\\n",
       "3                12             1  aab3238922bcc25a6f606eb525ffdc56   \n",
       "6                12             1  aab3238922bcc25a6f606eb525ffdc56   \n",
       "27               12             1  c74d97b01eae257e44aa9d5bade97baf   \n",
       "28               12             1  aab3238922bcc25a6f606eb525ffdc56   \n",
       "32               12             1  c74d97b01eae257e44aa9d5bade97baf   \n",
       "\n",
       "                           pr_cat_id                      pr_subcat_id  \\\n",
       "3   28fc2782ea7ef51c1104ccf7b9bea13d  a13b7a6b8e80d44d044c257a08ecccca   \n",
       "6   28fc2782ea7ef51c1104ccf7b9bea13d  d29b5ce9c2883f0b7e90f79071a2ca82   \n",
       "27  1bc0249a6412ef49b07fe6f62e6dc8de  68f204f3838bfee4ada868b66e6a0814   \n",
       "28  9701a1c165dd9420816bfec5edd6c2b1  567115097ac405a46a84ef641c2d7069   \n",
       "32  f3173935ed8ac4bf073c1bcd63171f8a  5fd72b9fc7118bd36a137d7cea8c588a   \n",
       "\n",
       "    pr_uom_id  \n",
       "3           1  \n",
       "6           1  \n",
       "27          1  \n",
       "28          1  \n",
       "32          1  "
      ]
     },
     "execution_count": 5,
     "metadata": {},
     "output_type": "execute_result"
    }
   ],
   "source": [
    "sales_units_zero = common_df[common_df['pr_sales_in_units'] == 0]\n",
    "print(\n",
    "    'нулевые продажи в шт и руб:', \n",
    "    sales_units_zero[sales_units_zero['pr_sales_in_rub'] == 0]['pr_sales_in_rub'].count(), \n",
    "    '\\nих доля в данных:', \n",
    "    round(sales_units_zero[sales_units_zero['pr_sales_in_rub'] == 0]['pr_sales_in_rub'].count() / common_df['pr_sales_in_rub'].count() * 100, 2), '%'\n",
    ")\n",
    "print(\n",
    "    'нулевые продажи в шт, но не нулевые в рублях:', \n",
    "    sales_units_zero[sales_units_zero['pr_sales_in_rub'] != 0]['pr_sales_in_rub'].count(), \n",
    "    '\\nих доля в данных:', \n",
    "    round(sales_units_zero[sales_units_zero['pr_sales_in_rub'] != 0]['pr_sales_in_rub'].count() / common_df['pr_sales_in_rub'].count() * 100, 2), '%'\n",
    ")\n",
    "sales_units_zero[sales_units_zero['pr_sales_in_rub'] != 0].head()"
   ]
  },
  {
   "cell_type": "markdown",
   "id": "d9d79393-418b-4762-a064-9bfe8a400cfa",
   "metadata": {},
   "source": [
    "**Вывод:** \n",
    "- в данных имеются записи, которые можно удалить (их доля 0.05%): нулевые значения в количестве проданных товаров и их стоимости\n",
    "- записи, по которым требуется уточнение в бизнесе (их доля 7.48%): нулевые значения в количестве проданных товаров и ненулевые в их стоимости."
   ]
  },
  {
   "cell_type": "markdown",
   "id": "82325f74-9bc0-4d98-a080-19c9e363a852",
   "metadata": {},
   "source": [
    "#### Удаление данных с нулями в количестве"
   ]
  },
  {
   "cell_type": "code",
   "execution_count": 6,
   "id": "ce80b6b2-c6b0-46a0-9f54-1d0366a8df95",
   "metadata": {},
   "outputs": [
    {
     "name": "stdout",
     "output_type": "stream",
     "text": [
      "<class 'pandas.core.frame.DataFrame'>\n",
      "Index: 816472 entries, 0 to 883014\n",
      "Data columns (total 18 columns):\n",
      " #   Column                   Non-Null Count   Dtype  \n",
      "---  ------                   --------------   -----  \n",
      " 0   st_id                    816472 non-null  object \n",
      " 1   pr_sku_id                816472 non-null  object \n",
      " 2   date                     816472 non-null  object \n",
      " 3   pr_sales_type_id         816472 non-null  int64  \n",
      " 4   pr_sales_in_units        816472 non-null  float64\n",
      " 5   pr_promo_sales_in_units  816472 non-null  float64\n",
      " 6   pr_sales_in_rub          816472 non-null  float64\n",
      " 7   pr_promo_sales_in_rub    816472 non-null  float64\n",
      " 8   st_city_id               816472 non-null  object \n",
      " 9   st_division_code         816472 non-null  object \n",
      " 10  st_type_format_id        816472 non-null  int64  \n",
      " 11  st_type_loc_id           816472 non-null  int64  \n",
      " 12  st_type_size_id          816472 non-null  int64  \n",
      " 13  st_is_active             816472 non-null  int64  \n",
      " 14  pr_group_id              816472 non-null  object \n",
      " 15  pr_cat_id                816472 non-null  object \n",
      " 16  pr_subcat_id             816472 non-null  object \n",
      " 17  pr_uom_id                816472 non-null  int64  \n",
      "dtypes: float64(4), int64(6), object(8)\n",
      "memory usage: 118.4+ MB\n"
     ]
    },
    {
     "data": {
      "text/html": [
       "<div>\n",
       "<style scoped>\n",
       "    .dataframe tbody tr th:only-of-type {\n",
       "        vertical-align: middle;\n",
       "    }\n",
       "\n",
       "    .dataframe tbody tr th {\n",
       "        vertical-align: top;\n",
       "    }\n",
       "\n",
       "    .dataframe thead th {\n",
       "        text-align: right;\n",
       "    }\n",
       "</style>\n",
       "<table border=\"1\" class=\"dataframe\">\n",
       "  <thead>\n",
       "    <tr style=\"text-align: right;\">\n",
       "      <th></th>\n",
       "      <th>st_id</th>\n",
       "      <th>pr_sku_id</th>\n",
       "      <th>date</th>\n",
       "      <th>pr_sales_type_id</th>\n",
       "      <th>pr_sales_in_units</th>\n",
       "      <th>pr_promo_sales_in_units</th>\n",
       "      <th>pr_sales_in_rub</th>\n",
       "      <th>pr_promo_sales_in_rub</th>\n",
       "      <th>st_city_id</th>\n",
       "      <th>st_division_code</th>\n",
       "      <th>st_type_format_id</th>\n",
       "      <th>st_type_loc_id</th>\n",
       "      <th>st_type_size_id</th>\n",
       "      <th>st_is_active</th>\n",
       "      <th>pr_group_id</th>\n",
       "      <th>pr_cat_id</th>\n",
       "      <th>pr_subcat_id</th>\n",
       "      <th>pr_uom_id</th>\n",
       "    </tr>\n",
       "  </thead>\n",
       "  <tbody>\n",
       "    <tr>\n",
       "      <th>538239</th>\n",
       "      <td>6364d3f0f495b6ab9dcf8d3b5c6e0b01</td>\n",
       "      <td>611f825b294117975c8d5c112cfb44ad</td>\n",
       "      <td>2022-11-10</td>\n",
       "      <td>0</td>\n",
       "      <td>1.0</td>\n",
       "      <td>0.0</td>\n",
       "      <td>102.0</td>\n",
       "      <td>0.0</td>\n",
       "      <td>b8b4b727d6f5d1b61fff7be687f7970f</td>\n",
       "      <td>da742b3cfca5388aaf9af28a726a3c30</td>\n",
       "      <td>1</td>\n",
       "      <td>1</td>\n",
       "      <td>12</td>\n",
       "      <td>1</td>\n",
       "      <td>c74d97b01eae257e44aa9d5bade97baf</td>\n",
       "      <td>f3173935ed8ac4bf073c1bcd63171f8a</td>\n",
       "      <td>4bc94de7bab27a1c3a9cd3ba68199f55</td>\n",
       "      <td>1</td>\n",
       "    </tr>\n",
       "  </tbody>\n",
       "</table>\n",
       "</div>"
      ],
      "text/plain": [
       "                                   st_id                         pr_sku_id  \\\n",
       "538239  6364d3f0f495b6ab9dcf8d3b5c6e0b01  611f825b294117975c8d5c112cfb44ad   \n",
       "\n",
       "              date  pr_sales_type_id  pr_sales_in_units  \\\n",
       "538239  2022-11-10                 0                1.0   \n",
       "\n",
       "        pr_promo_sales_in_units  pr_sales_in_rub  pr_promo_sales_in_rub  \\\n",
       "538239                      0.0            102.0                    0.0   \n",
       "\n",
       "                              st_city_id                  st_division_code  \\\n",
       "538239  b8b4b727d6f5d1b61fff7be687f7970f  da742b3cfca5388aaf9af28a726a3c30   \n",
       "\n",
       "        st_type_format_id  st_type_loc_id  st_type_size_id  st_is_active  \\\n",
       "538239                  1               1               12             1   \n",
       "\n",
       "                             pr_group_id                         pr_cat_id  \\\n",
       "538239  c74d97b01eae257e44aa9d5bade97baf  f3173935ed8ac4bf073c1bcd63171f8a   \n",
       "\n",
       "                            pr_subcat_id  pr_uom_id  \n",
       "538239  4bc94de7bab27a1c3a9cd3ba68199f55          1  "
      ]
     },
     "execution_count": 6,
     "metadata": {},
     "output_type": "execute_result"
    }
   ],
   "source": [
    "common_df = common_df.loc[common_df['pr_sales_in_units'] != 0]\n",
    "common_df.info()\n",
    "common_df.sample()"
   ]
  },
  {
   "cell_type": "markdown",
   "id": "3e79c104-e75a-4507-be26-843b34a70fbb",
   "metadata": {},
   "source": [
    "#### Количество активных магазинов"
   ]
  },
  {
   "cell_type": "code",
   "execution_count": 7,
   "id": "da05619a-810c-4e1c-8ef9-e1c8f73c5a6f",
   "metadata": {},
   "outputs": [
    {
     "name": "stdout",
     "output_type": "stream",
     "text": [
      "количество магазинов без маркера активности: 2 \n",
      "их доля в общем количестве магазинов: 0.17\n"
     ]
    }
   ],
   "source": [
    "print('количество магазинов без маркера активности:', \n",
    "      pr_st[pr_st['st_is_active'] == 0]['st_id'].count(), \n",
    "      '\\nих доля в общем количестве магазинов:', \n",
    "      round(pr_st[pr_st['st_is_active'] == 0]['st_id'].count() / pr_st['st_id'].count(), 2)\n",
    "     )"
   ]
  },
  {
   "cell_type": "markdown",
   "id": "5eb77af2-e89a-4926-850c-eb01ec6a4870",
   "metadata": {},
   "source": [
    "#### Количество данных по неактивным магазинам"
   ]
  },
  {
   "cell_type": "code",
   "execution_count": 8,
   "id": "4327189f-3823-420b-a70d-bbd0fdd121c2",
   "metadata": {},
   "outputs": [
    {
     "name": "stdout",
     "output_type": "stream",
     "text": [
      "количество записей по неактивным магазинам: 728 \n",
      "их доля в данных: 0.09 %\n"
     ]
    }
   ],
   "source": [
    "unactive_store_sales = common_df[common_df['st_is_active'] == 0]\n",
    "print(\n",
    "    'количество записей по неактивным магазинам:', \n",
    "    unactive_store_sales['pr_sales_in_rub'].count(), \n",
    "    '\\nих доля в данных:', \n",
    "    round(unactive_store_sales['pr_sales_in_rub'].count() / common_df['pr_sales_in_rub'].count() * 100, 2), '%'\n",
    ")"
   ]
  },
  {
   "cell_type": "markdown",
   "id": "5ffb0132-d761-447a-9094-4b99edf13b69",
   "metadata": {},
   "source": [
    "**Вывод:** в данных найдены магазины без маркера активности. Возможно, их можно удалить, требуется уточнение у бизнеса."
   ]
  },
  {
   "cell_type": "markdown",
   "id": "051f496a-3733-4561-a128-75d68bf78e4e",
   "metadata": {},
   "source": [
    "#### Удаление данных по неактивным магазинам"
   ]
  },
  {
   "cell_type": "code",
   "execution_count": 12,
   "id": "f180f3c8-3a59-4a55-9670-2c97ad63c0a5",
   "metadata": {},
   "outputs": [
    {
     "data": {
      "text/html": [
       "<div>\n",
       "<style scoped>\n",
       "    .dataframe tbody tr th:only-of-type {\n",
       "        vertical-align: middle;\n",
       "    }\n",
       "\n",
       "    .dataframe tbody tr th {\n",
       "        vertical-align: top;\n",
       "    }\n",
       "\n",
       "    .dataframe thead th {\n",
       "        text-align: right;\n",
       "    }\n",
       "</style>\n",
       "<table border=\"1\" class=\"dataframe\">\n",
       "  <thead>\n",
       "    <tr style=\"text-align: right;\">\n",
       "      <th></th>\n",
       "      <th>st_id</th>\n",
       "      <th>pr_sku_id</th>\n",
       "      <th>date</th>\n",
       "      <th>pr_sales_type_id</th>\n",
       "      <th>pr_sales_in_units</th>\n",
       "      <th>pr_promo_sales_in_units</th>\n",
       "      <th>pr_sales_in_rub</th>\n",
       "      <th>pr_promo_sales_in_rub</th>\n",
       "      <th>st_city_id</th>\n",
       "      <th>st_division_code</th>\n",
       "      <th>st_type_format_id</th>\n",
       "      <th>st_type_loc_id</th>\n",
       "      <th>st_type_size_id</th>\n",
       "      <th>st_is_active</th>\n",
       "      <th>pr_group_id</th>\n",
       "      <th>pr_cat_id</th>\n",
       "      <th>pr_subcat_id</th>\n",
       "      <th>pr_uom_id</th>\n",
       "    </tr>\n",
       "  </thead>\n",
       "  <tbody>\n",
       "    <tr>\n",
       "      <th>468053</th>\n",
       "      <td>16a5cdae362b8d27a1d8f8c7b78b4330</td>\n",
       "      <td>4a15a652bde1a9a3ac9cb96160ff3a98</td>\n",
       "      <td>2023-02-24</td>\n",
       "      <td>0</td>\n",
       "      <td>2.0</td>\n",
       "      <td>0.0</td>\n",
       "      <td>262.0</td>\n",
       "      <td>0.0</td>\n",
       "      <td>c1f75cc0f7fe269dd0fd9bd5e24f9586</td>\n",
       "      <td>296bd0cc6e735f9d7488ebc8fbc19130</td>\n",
       "      <td>1</td>\n",
       "      <td>2</td>\n",
       "      <td>8</td>\n",
       "      <td>1</td>\n",
       "      <td>6512bd43d9caa6e02c990b0a82652dca</td>\n",
       "      <td>e58cc5ca94270acaceed13bc82dfedf7</td>\n",
       "      <td>c93c26cd49ea08e6b8984351d4164575</td>\n",
       "      <td>1</td>\n",
       "    </tr>\n",
       "  </tbody>\n",
       "</table>\n",
       "</div>"
      ],
      "text/plain": [
       "                                   st_id                         pr_sku_id  \\\n",
       "468053  16a5cdae362b8d27a1d8f8c7b78b4330  4a15a652bde1a9a3ac9cb96160ff3a98   \n",
       "\n",
       "              date  pr_sales_type_id  pr_sales_in_units  \\\n",
       "468053  2023-02-24                 0                2.0   \n",
       "\n",
       "        pr_promo_sales_in_units  pr_sales_in_rub  pr_promo_sales_in_rub  \\\n",
       "468053                      0.0            262.0                    0.0   \n",
       "\n",
       "                              st_city_id                  st_division_code  \\\n",
       "468053  c1f75cc0f7fe269dd0fd9bd5e24f9586  296bd0cc6e735f9d7488ebc8fbc19130   \n",
       "\n",
       "        st_type_format_id  st_type_loc_id  st_type_size_id  st_is_active  \\\n",
       "468053                  1               2                8             1   \n",
       "\n",
       "                             pr_group_id                         pr_cat_id  \\\n",
       "468053  6512bd43d9caa6e02c990b0a82652dca  e58cc5ca94270acaceed13bc82dfedf7   \n",
       "\n",
       "                            pr_subcat_id  pr_uom_id  \n",
       "468053  c93c26cd49ea08e6b8984351d4164575          1  "
      ]
     },
     "metadata": {},
     "output_type": "display_data"
    },
    {
     "name": "stdout",
     "output_type": "stream",
     "text": [
      "<class 'pandas.core.frame.DataFrame'>\n",
      "Index: 815744 entries, 0 to 883014\n",
      "Data columns (total 18 columns):\n",
      " #   Column                   Non-Null Count   Dtype  \n",
      "---  ------                   --------------   -----  \n",
      " 0   st_id                    815744 non-null  object \n",
      " 1   pr_sku_id                815744 non-null  object \n",
      " 2   date                     815744 non-null  object \n",
      " 3   pr_sales_type_id         815744 non-null  int64  \n",
      " 4   pr_sales_in_units        815744 non-null  float64\n",
      " 5   pr_promo_sales_in_units  815744 non-null  float64\n",
      " 6   pr_sales_in_rub          815744 non-null  float64\n",
      " 7   pr_promo_sales_in_rub    815744 non-null  float64\n",
      " 8   st_city_id               815744 non-null  object \n",
      " 9   st_division_code         815744 non-null  object \n",
      " 10  st_type_format_id        815744 non-null  int64  \n",
      " 11  st_type_loc_id           815744 non-null  int64  \n",
      " 12  st_type_size_id          815744 non-null  int64  \n",
      " 13  st_is_active             815744 non-null  int64  \n",
      " 14  pr_group_id              815744 non-null  object \n",
      " 15  pr_cat_id                815744 non-null  object \n",
      " 16  pr_subcat_id             815744 non-null  object \n",
      " 17  pr_uom_id                815744 non-null  int64  \n",
      "dtypes: float64(4), int64(6), object(8)\n",
      "memory usage: 118.2+ MB\n"
     ]
    }
   ],
   "source": [
    "common_df = common_df.loc[~common_df['st_id'].isin(list(pr_st[pr_st['st_is_active'] == 0]['st_id']))]\n",
    "display(common_df.sample())\n",
    "common_df.info()"
   ]
  },
  {
   "cell_type": "markdown",
   "id": "97659ef5-c29c-4770-b3e3-ed50cd960f4b",
   "metadata": {},
   "source": [
    "#### Изменение формата в поле с датами"
   ]
  },
  {
   "cell_type": "code",
   "execution_count": 13,
   "id": "d85a570a-98d0-4cce-8aed-e701114cdad2",
   "metadata": {},
   "outputs": [
    {
     "data": {
      "text/html": [
       "<div>\n",
       "<style scoped>\n",
       "    .dataframe tbody tr th:only-of-type {\n",
       "        vertical-align: middle;\n",
       "    }\n",
       "\n",
       "    .dataframe tbody tr th {\n",
       "        vertical-align: top;\n",
       "    }\n",
       "\n",
       "    .dataframe thead th {\n",
       "        text-align: right;\n",
       "    }\n",
       "</style>\n",
       "<table border=\"1\" class=\"dataframe\">\n",
       "  <thead>\n",
       "    <tr style=\"text-align: right;\">\n",
       "      <th></th>\n",
       "      <th>st_id</th>\n",
       "      <th>pr_sku_id</th>\n",
       "      <th>date</th>\n",
       "      <th>pr_sales_type_id</th>\n",
       "      <th>pr_sales_in_units</th>\n",
       "      <th>pr_promo_sales_in_units</th>\n",
       "      <th>pr_sales_in_rub</th>\n",
       "      <th>pr_promo_sales_in_rub</th>\n",
       "      <th>st_city_id</th>\n",
       "      <th>st_division_code</th>\n",
       "      <th>st_type_format_id</th>\n",
       "      <th>st_type_loc_id</th>\n",
       "      <th>st_type_size_id</th>\n",
       "      <th>st_is_active</th>\n",
       "      <th>pr_group_id</th>\n",
       "      <th>pr_cat_id</th>\n",
       "      <th>pr_subcat_id</th>\n",
       "      <th>pr_uom_id</th>\n",
       "    </tr>\n",
       "  </thead>\n",
       "  <tbody>\n",
       "    <tr>\n",
       "      <th>215853</th>\n",
       "      <td>42a0e188f5033bc65bf8d78622277c4e</td>\n",
       "      <td>1e530dac29b2ea4389130dafa762c7bc</td>\n",
       "      <td>2023-01-30</td>\n",
       "      <td>0</td>\n",
       "      <td>1.0</td>\n",
       "      <td>0.0</td>\n",
       "      <td>131.0</td>\n",
       "      <td>0.0</td>\n",
       "      <td>b8b4b727d6f5d1b61fff7be687f7970f</td>\n",
       "      <td>da742b3cfca5388aaf9af28a726a3c30</td>\n",
       "      <td>1</td>\n",
       "      <td>1</td>\n",
       "      <td>12</td>\n",
       "      <td>1</td>\n",
       "      <td>c74d97b01eae257e44aa9d5bade97baf</td>\n",
       "      <td>f3173935ed8ac4bf073c1bcd63171f8a</td>\n",
       "      <td>bb44cd485a19a2b227b3ccc473d10302</td>\n",
       "      <td>17</td>\n",
       "    </tr>\n",
       "  </tbody>\n",
       "</table>\n",
       "</div>"
      ],
      "text/plain": [
       "                                   st_id                         pr_sku_id  \\\n",
       "215853  42a0e188f5033bc65bf8d78622277c4e  1e530dac29b2ea4389130dafa762c7bc   \n",
       "\n",
       "             date  pr_sales_type_id  pr_sales_in_units  \\\n",
       "215853 2023-01-30                 0                1.0   \n",
       "\n",
       "        pr_promo_sales_in_units  pr_sales_in_rub  pr_promo_sales_in_rub  \\\n",
       "215853                      0.0            131.0                    0.0   \n",
       "\n",
       "                              st_city_id                  st_division_code  \\\n",
       "215853  b8b4b727d6f5d1b61fff7be687f7970f  da742b3cfca5388aaf9af28a726a3c30   \n",
       "\n",
       "        st_type_format_id  st_type_loc_id  st_type_size_id  st_is_active  \\\n",
       "215853                  1               1               12             1   \n",
       "\n",
       "                             pr_group_id                         pr_cat_id  \\\n",
       "215853  c74d97b01eae257e44aa9d5bade97baf  f3173935ed8ac4bf073c1bcd63171f8a   \n",
       "\n",
       "                            pr_subcat_id  pr_uom_id  \n",
       "215853  bb44cd485a19a2b227b3ccc473d10302         17  "
      ]
     },
     "metadata": {},
     "output_type": "display_data"
    },
    {
     "name": "stdout",
     "output_type": "stream",
     "text": [
      "<class 'pandas.core.frame.DataFrame'>\n",
      "Index: 815744 entries, 0 to 883014\n",
      "Data columns (total 18 columns):\n",
      " #   Column                   Non-Null Count   Dtype         \n",
      "---  ------                   --------------   -----         \n",
      " 0   st_id                    815744 non-null  object        \n",
      " 1   pr_sku_id                815744 non-null  object        \n",
      " 2   date                     815744 non-null  datetime64[ns]\n",
      " 3   pr_sales_type_id         815744 non-null  int64         \n",
      " 4   pr_sales_in_units        815744 non-null  float64       \n",
      " 5   pr_promo_sales_in_units  815744 non-null  float64       \n",
      " 6   pr_sales_in_rub          815744 non-null  float64       \n",
      " 7   pr_promo_sales_in_rub    815744 non-null  float64       \n",
      " 8   st_city_id               815744 non-null  object        \n",
      " 9   st_division_code         815744 non-null  object        \n",
      " 10  st_type_format_id        815744 non-null  int64         \n",
      " 11  st_type_loc_id           815744 non-null  int64         \n",
      " 12  st_type_size_id          815744 non-null  int64         \n",
      " 13  st_is_active             815744 non-null  int64         \n",
      " 14  pr_group_id              815744 non-null  object        \n",
      " 15  pr_cat_id                815744 non-null  object        \n",
      " 16  pr_subcat_id             815744 non-null  object        \n",
      " 17  pr_uom_id                815744 non-null  int64         \n",
      "dtypes: datetime64[ns](1), float64(4), int64(6), object(7)\n",
      "memory usage: 118.2+ MB\n"
     ]
    }
   ],
   "source": [
    "common_df['date'] = pd.to_datetime(common_df['date'])\n",
    "display(common_df.sample())\n",
    "common_df.info()"
   ]
  },
  {
   "cell_type": "markdown",
   "id": "f013c750-163b-4cc8-be00-fc4574f03bf6",
   "metadata": {},
   "source": [
    "#### Сортировка в порядке возрастания"
   ]
  },
  {
   "cell_type": "code",
   "execution_count": 20,
   "id": "b0010126-bf98-478c-863c-f86ca1e29cc6",
   "metadata": {},
   "outputs": [],
   "source": [
    "common_df = common_df.sort_values(by='date', ignore_index=True)"
   ]
  },
  {
   "cell_type": "markdown",
   "id": "4c95926d-10a3-4e4e-8b52-0a9e8ae5b508",
   "metadata": {},
   "source": [
    "#### Анализ целевого признака"
   ]
  },
  {
   "cell_type": "markdown",
   "id": "744b3dfb-d215-4360-b165-a32ba2d511c2",
   "metadata": {},
   "source": [
    "Количество записей со значением целевого признака меньше нуля"
   ]
  },
  {
   "cell_type": "code",
   "execution_count": 24,
   "id": "ef4e52ac-e14c-4290-9973-7d31fb7c8f85",
   "metadata": {},
   "outputs": [
    {
     "name": "stdout",
     "output_type": "stream",
     "text": [
      "количество записей возвратов: 71 \n",
      "их доля в данных: 0.01 %\n"
     ]
    }
   ],
   "source": [
    "print(\n",
    "    'количество записей возвратов:', \n",
    "    common_df[common_df['pr_sales_in_units'] < 0]['pr_sales_in_units'].count(), \n",
    "    '\\nих доля в данных:', \n",
    "    round(common_df[common_df['pr_sales_in_units'] < 0]['pr_sales_in_units'].count() / common_df['pr_sales_in_units'].count() * 100, 2), '%'\n",
    ")"
   ]
  },
  {
   "cell_type": "markdown",
   "id": "53ed59e9-192d-4c88-9fcd-f55602cf3bc2",
   "metadata": {},
   "source": [
    "Удаление записей возвратов"
   ]
  },
  {
   "cell_type": "code",
   "execution_count": 26,
   "id": "0a4eba6f-82d4-4f7a-86e3-98185b8ed731",
   "metadata": {},
   "outputs": [
    {
     "name": "stdout",
     "output_type": "stream",
     "text": [
      "<class 'pandas.core.frame.DataFrame'>\n",
      "Index: 815673 entries, 0 to 815743\n",
      "Data columns (total 18 columns):\n",
      " #   Column                   Non-Null Count   Dtype         \n",
      "---  ------                   --------------   -----         \n",
      " 0   st_id                    815673 non-null  object        \n",
      " 1   pr_sku_id                815673 non-null  object        \n",
      " 2   date                     815673 non-null  datetime64[ns]\n",
      " 3   pr_sales_type_id         815673 non-null  int64         \n",
      " 4   pr_sales_in_units        815673 non-null  float64       \n",
      " 5   pr_promo_sales_in_units  815673 non-null  float64       \n",
      " 6   pr_sales_in_rub          815673 non-null  float64       \n",
      " 7   pr_promo_sales_in_rub    815673 non-null  float64       \n",
      " 8   st_city_id               815673 non-null  object        \n",
      " 9   st_division_code         815673 non-null  object        \n",
      " 10  st_type_format_id        815673 non-null  int64         \n",
      " 11  st_type_loc_id           815673 non-null  int64         \n",
      " 12  st_type_size_id          815673 non-null  int64         \n",
      " 13  st_is_active             815673 non-null  int64         \n",
      " 14  pr_group_id              815673 non-null  object        \n",
      " 15  pr_cat_id                815673 non-null  object        \n",
      " 16  pr_subcat_id             815673 non-null  object        \n",
      " 17  pr_uom_id                815673 non-null  int64         \n",
      "dtypes: datetime64[ns](1), float64(4), int64(6), object(7)\n",
      "memory usage: 118.2+ MB\n"
     ]
    }
   ],
   "source": [
    "common_df = common_df.loc[common_df['pr_sales_in_units'] > 0]\n",
    "common_df.info()"
   ]
  },
  {
   "cell_type": "code",
   "execution_count": 27,
   "id": "5751dec2-42a3-4464-af35-5206833aa2c3",
   "metadata": {},
   "outputs": [
    {
     "data": {
      "text/plain": [
       "count    815673.000000\n",
       "mean          5.451414\n",
       "std          13.864076\n",
       "min           1.000000\n",
       "25%           1.000000\n",
       "50%           2.000000\n",
       "75%           5.000000\n",
       "max        2348.000000\n",
       "Name: pr_sales_in_units, dtype: float64"
      ]
     },
     "execution_count": 27,
     "metadata": {},
     "output_type": "execute_result"
    }
   ],
   "source": [
    "common_df['pr_sales_in_units'].describe()"
   ]
  },
  {
   "cell_type": "code",
   "execution_count": 56,
   "id": "69ad686f-b7c6-4df3-870a-4b07cf233279",
   "metadata": {},
   "outputs": [
    {
     "data": {
      "image/png": "[encoded data removed]",
      "text/plain": [
       "<Figure size 640x480 with 1 Axes>"
      ]
     },
     "metadata": {},
     "output_type": "display_data"
    }
   ],
   "source": [
    "sns.kdeplot(common_df, x='pr_sales_in_units', clip=(-10, 50), fill=True);"
   ]
  },
  {
   "cell_type": "markdown",
   "id": "fd0ce8ca-e9fa-4c42-86e9-b9e3eaa93974",
   "metadata": {},
   "source": [
    "**Вывод:** среднее значение больше медианного, наблюдается правосторонняя асимметрия."
   ]
  },
  {
   "cell_type": "markdown",
   "id": "0f50634b-d054-4ca9-a693-d6cdd3363424",
   "metadata": {},
   "source": [
    "#### Тепловая диаграмма для выявления корреляции между признаками"
   ]
  },
  {
   "cell_type": "code",
   "execution_count": null,
   "id": "b4425b11-f300-4575-85ce-74ec92042532",
   "metadata": {},
   "outputs": [],
   "source": []
  },
  {
   "cell_type": "markdown",
   "id": "d2c6bda7-eae4-4537-a258-958321659ac4",
   "metadata": {},
   "source": [
    "### Выводы\n",
    "- Данные загружены с распознованием дат.\n",
    "- Данные предоставлены за период с `01.08.2022` по `18.07.2023`\n",
    "- Можем удалить признаки, связанные с промо, т.к. они дублируют общие значения\n",
    "- Можно удалить записи (около 7.5% датасета):\n",
    "    - с нулевыми значениями в количестве проданных товаров и их стоимости,\n",
    "    - с нулевыми значениями в количестве проданных товаров и ненулевыми в их стоимости (действие согласовано с бизнесом)\n",
    "- Можно удалить магазины без маркера активности (действие согласовано с бизнесом):\n",
    "    - им соответствует 729 записей, что составляет 0.08% датасета"
   ]
  },
  {
   "cell_type": "code",
   "execution_count": null,
   "id": "758d8c2b-8100-45eb-bcd1-64efb58ac6fe",
   "metadata": {},
   "outputs": [],
   "source": []
  },
  {
   "cell_type": "markdown",
   "id": "1b8c45f4-5ef9-4ce5-a15b-0d18ecbe91ea",
   "metadata": {},
   "source": [
    "#### Удаление данных, связанных с промо"
   ]
  },
  {
   "cell_type": "code",
   "execution_count": null,
   "id": "029872b5-46bd-48d7-8fd7-5859bbf5e23e",
   "metadata": {},
   "outputs": [],
   "source": [
    "sales_dt = sales_dt.drop(['pr_sales_type_id', 'pr_promo_sales_in_units', 'pr_promo_sales_in_rub', 'price_difference'], axis=1)\n",
    "sales_dt.head()"
   ]
  },
  {
   "cell_type": "markdown",
   "id": "ec3c540c-dd94-4133-b694-ab53debb3717",
   "metadata": {},
   "source": [
    "#### Импорт календаря РФ"
   ]
  },
  {
   "cell_type": "code",
   "execution_count": null,
   "id": "688f7ad8-cc58-464b-997b-fe9a44211e26",
   "metadata": {},
   "outputs": [],
   "source": [
    "calendar = pd.read_csv('holidays_covid_calendar.csv')\n",
    "calendar.info()\n",
    "calendar.sample()"
   ]
  },
  {
   "cell_type": "code",
   "execution_count": null,
   "id": "0d83e7e9-2a63-4c99-88ce-e1a76c0c524f",
   "metadata": {},
   "outputs": [],
   "source": []
  },
  {
   "cell_type": "code",
   "execution_count": null,
   "id": "71b9a4bd-5f84-41fa-8859-086f87c72b08",
   "metadata": {},
   "outputs": [],
   "source": []
  },
  {
   "cell_type": "code",
   "execution_count": null,
   "id": "100160e4-c57b-4bd5-bee3-9d9ffd13ca1b",
   "metadata": {},
   "outputs": [],
   "source": []
  },
  {
   "cell_type": "code",
   "execution_count": null,
   "id": "f0566ae0-5d70-4c5e-9835-a89c1abcc646",
   "metadata": {},
   "outputs": [],
   "source": []
  },
  {
   "cell_type": "code",
   "execution_count": null,
   "id": "773a758b-c105-42fa-90b8-bf6af647db2d",
   "metadata": {},
   "outputs": [],
   "source": []
  },
  {
   "cell_type": "markdown",
   "id": "689602fe-72cb-45fe-966e-77baf0be56a3",
   "metadata": {},
   "source": [
    "## Чек-лист\n",
    "1. Файл в зафиксированном формате с результатом прогноза спроса (sales_submission.csv).\n",
    "2. Воспроизводимый код на Python\n",
    "3. Описание решения:\n",
    "    \n",
    "    a. Описание обученной модели прогноза спроса\n",
    "    \n",
    "        i. Признаки\n",
    "        ii. интерпретация (shapley values),\n",
    "        iii. кросс-валидация\n",
    "        iv. алгоритмы\n",
    "    \n",
    "    b. Описание вашего алгоритма оптимизации:\n",
    "    \n",
    "        i. методология расчетов\n",
    "        ii. скорость оптимизации"
   ]
  }
 ],
 "metadata": {
  "kernelspec": {
   "display_name": "Python 3 (ipykernel)",
   "language": "python",
   "name": "python3"
  },
  "language_info": {
   "codemirror_mode": {
    "name": "ipython",
    "version": 3
   },
   "file_extension": ".py",
   "mimetype": "text/x-python",
   "name": "python",
   "nbconvert_exporter": "python",
   "pygments_lexer": "ipython3",
   "version": "3.10.12"
  }
 },
 "nbformat": 4,
 "nbformat_minor": 5
}
